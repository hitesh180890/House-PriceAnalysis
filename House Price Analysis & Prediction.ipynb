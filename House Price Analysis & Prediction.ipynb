{
 "cells": [
  {
   "cell_type": "code",
   "execution_count": 1,
   "id": "de890470",
   "metadata": {
    "_cell_guid": "b1076dfc-b9ad-4769-8c92-a6c4dae69d19",
    "_uuid": "8f2839f25d086af736a60e9eeb907d3b93b6e0e5",
    "execution": {
     "iopub.execute_input": "2025-09-18T19:05:37.810393Z",
     "iopub.status.busy": "2025-09-18T19:05:37.809991Z",
     "iopub.status.idle": "2025-09-18T19:05:39.638719Z",
     "shell.execute_reply": "2025-09-18T19:05:39.637498Z"
    },
    "papermill": {
     "duration": 1.840638,
     "end_time": "2025-09-18T19:05:39.640248",
     "exception": false,
     "start_time": "2025-09-18T19:05:37.799610",
     "status": "completed"
    },
    "tags": []
   },
   "outputs": [
    {
     "name": "stdout",
     "output_type": "stream",
     "text": [
      "/kaggle/input/housedata/output.csv\n",
      "/kaggle/input/housedata/data.csv\n",
      "/kaggle/input/housedata/data.dat\n"
     ]
    }
   ],
   "source": [
    "# This Python 3 environment comes with many helpful analytics libraries installed\n",
    "# It is defined by the kaggle/python Docker image: https://github.com/kaggle/docker-python\n",
    "# For example, here's several helpful packages to load\n",
    "\n",
    "import numpy as np # linear algebra\n",
    "import pandas as pd # data processing, CSV file I/O (e.g. pd.read_csv)\n",
    "\n",
    "# Input data files are available in the read-only \"../input/\" directory\n",
    "# For example, running this (by clicking run or pressing Shift+Enter) will list all files under the input directory\n",
    "\n",
    "import os\n",
    "for dirname, _, filenames in os.walk('/kaggle/input'):\n",
    "    for filename in filenames:\n",
    "        print(os.path.join(dirname, filename))\n",
    "\n",
    "# You can write up to 20GB to the current directory (/kaggle/working/) that gets preserved as output when you create a version using \"Save & Run All\" \n",
    "# You can also write temporary files to /kaggle/temp/, but they won't be saved outside of the current session"
   ]
  },
  {
   "cell_type": "markdown",
   "id": "efe611bf",
   "metadata": {
    "papermill": {
     "duration": 0.007856,
     "end_time": "2025-09-18T19:05:39.656916",
     "exception": false,
     "start_time": "2025-09-18T19:05:39.649060",
     "status": "completed"
    },
    "tags": []
   },
   "source": [
    "<center>\n",
    "  <h3 style=\"font-size:36px;\">🏠 House Price Analysis & Prediction</h3>\n",
    "</center>\n",
    "\n",
    "<p style=\"font-size:20px; line-height:1.5;\">\n",
    "This project involves analyzing housing data to understand market trends and predict house prices.  \n",
    "We perform exploratory data analysis (EDA), visualize key features, and build machine learning models to predict house prices accurately.\n",
    "</p>\n",
    "<pre style=\"background:#282c34; color:#f8f8f2; padding:10px; border-radius:6px; text-align:left;\">\n"
   ]
  },
  {
   "cell_type": "markdown",
   "id": "fe30d4c5",
   "metadata": {
    "papermill": {
     "duration": 0.007756,
     "end_time": "2025-09-18T19:05:39.672631",
     "exception": false,
     "start_time": "2025-09-18T19:05:39.664875",
     "status": "completed"
    },
    "tags": []
   },
   "source": [
    "\n",
    "# 🔹 Load the dataset\n",
    "df = pd.read_csv('house_data.csv')  # Replace 'house_data.csv' with your file path\n"
   ]
  },
  {
   "cell_type": "code",
   "execution_count": 2,
   "id": "a0303b42",
   "metadata": {
    "execution": {
     "iopub.execute_input": "2025-09-18T19:05:39.689860Z",
     "iopub.status.busy": "2025-09-18T19:05:39.689398Z",
     "iopub.status.idle": "2025-09-18T19:05:39.736437Z",
     "shell.execute_reply": "2025-09-18T19:05:39.735577Z"
    },
    "papermill": {
     "duration": 0.05741,
     "end_time": "2025-09-18T19:05:39.738046",
     "exception": false,
     "start_time": "2025-09-18T19:05:39.680636",
     "status": "completed"
    },
    "tags": []
   },
   "outputs": [],
   "source": [
    "df= pd.read_csv('/kaggle/input/housedata/data.csv')"
   ]
  },
  {
   "cell_type": "markdown",
   "id": "26b8e3e8",
   "metadata": {
    "papermill": {
     "duration": 0.007945,
     "end_time": "2025-09-18T19:05:39.753932",
     "exception": false,
     "start_time": "2025-09-18T19:05:39.745987",
     "status": "completed"
    },
    "tags": []
   },
   "source": [
    "<center>\n",
    "  <h3>📄 First 5 Rows of Dataset (df.head())</h3>\n",
    "</center>\n",
    "\n",
    "<p>\n",
    "The <code>df.head()</code> method displays the first few rows of the dataset.  \n",
    "It helps us quickly inspect the structure, column names, and sample data.\n",
    "</p>\n",
    "<pre style=\"background:#282c34; color:#f8f8f2; padding:10px; border-radius:6px; text-align:left;\">\n"
   ]
  },
  {
   "cell_type": "code",
   "execution_count": 3,
   "id": "251d7ce9",
   "metadata": {
    "execution": {
     "iopub.execute_input": "2025-09-18T19:05:39.770729Z",
     "iopub.status.busy": "2025-09-18T19:05:39.770399Z",
     "iopub.status.idle": "2025-09-18T19:05:39.803662Z",
     "shell.execute_reply": "2025-09-18T19:05:39.802827Z"
    },
    "papermill": {
     "duration": 0.043354,
     "end_time": "2025-09-18T19:05:39.805059",
     "exception": false,
     "start_time": "2025-09-18T19:05:39.761705",
     "status": "completed"
    },
    "tags": []
   },
   "outputs": [
    {
     "data": {
      "text/html": [
       "<div>\n",
       "<style scoped>\n",
       "    .dataframe tbody tr th:only-of-type {\n",
       "        vertical-align: middle;\n",
       "    }\n",
       "\n",
       "    .dataframe tbody tr th {\n",
       "        vertical-align: top;\n",
       "    }\n",
       "\n",
       "    .dataframe thead th {\n",
       "        text-align: right;\n",
       "    }\n",
       "</style>\n",
       "<table border=\"1\" class=\"dataframe\">\n",
       "  <thead>\n",
       "    <tr style=\"text-align: right;\">\n",
       "      <th></th>\n",
       "      <th>date</th>\n",
       "      <th>price</th>\n",
       "      <th>bedrooms</th>\n",
       "      <th>bathrooms</th>\n",
       "      <th>sqft_living</th>\n",
       "      <th>sqft_lot</th>\n",
       "      <th>floors</th>\n",
       "      <th>waterfront</th>\n",
       "      <th>view</th>\n",
       "      <th>condition</th>\n",
       "      <th>sqft_above</th>\n",
       "      <th>sqft_basement</th>\n",
       "      <th>yr_built</th>\n",
       "      <th>yr_renovated</th>\n",
       "      <th>street</th>\n",
       "      <th>city</th>\n",
       "      <th>statezip</th>\n",
       "      <th>country</th>\n",
       "    </tr>\n",
       "  </thead>\n",
       "  <tbody>\n",
       "    <tr>\n",
       "      <th>0</th>\n",
       "      <td>2014-05-02 00:00:00</td>\n",
       "      <td>313000.0</td>\n",
       "      <td>3.0</td>\n",
       "      <td>1.50</td>\n",
       "      <td>1340</td>\n",
       "      <td>7912</td>\n",
       "      <td>1.5</td>\n",
       "      <td>0</td>\n",
       "      <td>0</td>\n",
       "      <td>3</td>\n",
       "      <td>1340</td>\n",
       "      <td>0</td>\n",
       "      <td>1955</td>\n",
       "      <td>2005</td>\n",
       "      <td>18810 Densmore Ave N</td>\n",
       "      <td>Shoreline</td>\n",
       "      <td>WA 98133</td>\n",
       "      <td>USA</td>\n",
       "    </tr>\n",
       "    <tr>\n",
       "      <th>1</th>\n",
       "      <td>2014-05-02 00:00:00</td>\n",
       "      <td>2384000.0</td>\n",
       "      <td>5.0</td>\n",
       "      <td>2.50</td>\n",
       "      <td>3650</td>\n",
       "      <td>9050</td>\n",
       "      <td>2.0</td>\n",
       "      <td>0</td>\n",
       "      <td>4</td>\n",
       "      <td>5</td>\n",
       "      <td>3370</td>\n",
       "      <td>280</td>\n",
       "      <td>1921</td>\n",
       "      <td>0</td>\n",
       "      <td>709 W Blaine St</td>\n",
       "      <td>Seattle</td>\n",
       "      <td>WA 98119</td>\n",
       "      <td>USA</td>\n",
       "    </tr>\n",
       "    <tr>\n",
       "      <th>2</th>\n",
       "      <td>2014-05-02 00:00:00</td>\n",
       "      <td>342000.0</td>\n",
       "      <td>3.0</td>\n",
       "      <td>2.00</td>\n",
       "      <td>1930</td>\n",
       "      <td>11947</td>\n",
       "      <td>1.0</td>\n",
       "      <td>0</td>\n",
       "      <td>0</td>\n",
       "      <td>4</td>\n",
       "      <td>1930</td>\n",
       "      <td>0</td>\n",
       "      <td>1966</td>\n",
       "      <td>0</td>\n",
       "      <td>26206-26214 143rd Ave SE</td>\n",
       "      <td>Kent</td>\n",
       "      <td>WA 98042</td>\n",
       "      <td>USA</td>\n",
       "    </tr>\n",
       "    <tr>\n",
       "      <th>3</th>\n",
       "      <td>2014-05-02 00:00:00</td>\n",
       "      <td>420000.0</td>\n",
       "      <td>3.0</td>\n",
       "      <td>2.25</td>\n",
       "      <td>2000</td>\n",
       "      <td>8030</td>\n",
       "      <td>1.0</td>\n",
       "      <td>0</td>\n",
       "      <td>0</td>\n",
       "      <td>4</td>\n",
       "      <td>1000</td>\n",
       "      <td>1000</td>\n",
       "      <td>1963</td>\n",
       "      <td>0</td>\n",
       "      <td>857 170th Pl NE</td>\n",
       "      <td>Bellevue</td>\n",
       "      <td>WA 98008</td>\n",
       "      <td>USA</td>\n",
       "    </tr>\n",
       "    <tr>\n",
       "      <th>4</th>\n",
       "      <td>2014-05-02 00:00:00</td>\n",
       "      <td>550000.0</td>\n",
       "      <td>4.0</td>\n",
       "      <td>2.50</td>\n",
       "      <td>1940</td>\n",
       "      <td>10500</td>\n",
       "      <td>1.0</td>\n",
       "      <td>0</td>\n",
       "      <td>0</td>\n",
       "      <td>4</td>\n",
       "      <td>1140</td>\n",
       "      <td>800</td>\n",
       "      <td>1976</td>\n",
       "      <td>1992</td>\n",
       "      <td>9105 170th Ave NE</td>\n",
       "      <td>Redmond</td>\n",
       "      <td>WA 98052</td>\n",
       "      <td>USA</td>\n",
       "    </tr>\n",
       "  </tbody>\n",
       "</table>\n",
       "</div>"
      ],
      "text/plain": [
       "                  date      price  bedrooms  bathrooms  sqft_living  sqft_lot  \\\n",
       "0  2014-05-02 00:00:00   313000.0       3.0       1.50         1340      7912   \n",
       "1  2014-05-02 00:00:00  2384000.0       5.0       2.50         3650      9050   \n",
       "2  2014-05-02 00:00:00   342000.0       3.0       2.00         1930     11947   \n",
       "3  2014-05-02 00:00:00   420000.0       3.0       2.25         2000      8030   \n",
       "4  2014-05-02 00:00:00   550000.0       4.0       2.50         1940     10500   \n",
       "\n",
       "   floors  waterfront  view  condition  sqft_above  sqft_basement  yr_built  \\\n",
       "0     1.5           0     0          3        1340              0      1955   \n",
       "1     2.0           0     4          5        3370            280      1921   \n",
       "2     1.0           0     0          4        1930              0      1966   \n",
       "3     1.0           0     0          4        1000           1000      1963   \n",
       "4     1.0           0     0          4        1140            800      1976   \n",
       "\n",
       "   yr_renovated                    street       city  statezip country  \n",
       "0          2005      18810 Densmore Ave N  Shoreline  WA 98133     USA  \n",
       "1             0           709 W Blaine St    Seattle  WA 98119     USA  \n",
       "2             0  26206-26214 143rd Ave SE       Kent  WA 98042     USA  \n",
       "3             0           857 170th Pl NE   Bellevue  WA 98008     USA  \n",
       "4          1992         9105 170th Ave NE    Redmond  WA 98052     USA  "
      ]
     },
     "execution_count": 3,
     "metadata": {},
     "output_type": "execute_result"
    }
   ],
   "source": [
    "df.head()"
   ]
  },
  {
   "cell_type": "markdown",
   "id": "5034195e",
   "metadata": {
    "papermill": {
     "duration": 0.007783,
     "end_time": "2025-09-18T19:05:39.821335",
     "exception": false,
     "start_time": "2025-09-18T19:05:39.813552",
     "status": "completed"
    },
    "tags": []
   },
   "source": [
    "<center>\n",
    "  <h3>ℹ️ Dataset Information (df.info())</h3>\n",
    "</center>\n",
    "\n",
    "<p>\n",
    "The <code>df.info()</code> method provides a concise summary of the dataset, including:  \n",
    "<ul>\n",
    "  <li>Total number of rows and columns</li>\n",
    "  <li>Column names and their data types</li>\n",
    "  <li>Non-null counts for each column</li>\n",
    "</ul>\n",
    "It helps in understanding the structure of the dataset and identifying missing values.\n",
    "</p>\n",
    "<pre style=\"background:#282c34; color:#f8f8f2; padding:10px; border-radius:6px; text-align:left;\">\n"
   ]
  },
  {
   "cell_type": "code",
   "execution_count": 4,
   "id": "7277f3cf",
   "metadata": {
    "execution": {
     "iopub.execute_input": "2025-09-18T19:05:39.838883Z",
     "iopub.status.busy": "2025-09-18T19:05:39.838574Z",
     "iopub.status.idle": "2025-09-18T19:05:39.865173Z",
     "shell.execute_reply": "2025-09-18T19:05:39.864069Z"
    },
    "papermill": {
     "duration": 0.0373,
     "end_time": "2025-09-18T19:05:39.866750",
     "exception": false,
     "start_time": "2025-09-18T19:05:39.829450",
     "status": "completed"
    },
    "tags": []
   },
   "outputs": [
    {
     "name": "stdout",
     "output_type": "stream",
     "text": [
      "<class 'pandas.core.frame.DataFrame'>\n",
      "RangeIndex: 4600 entries, 0 to 4599\n",
      "Data columns (total 18 columns):\n",
      " #   Column         Non-Null Count  Dtype  \n",
      "---  ------         --------------  -----  \n",
      " 0   date           4600 non-null   object \n",
      " 1   price          4600 non-null   float64\n",
      " 2   bedrooms       4600 non-null   float64\n",
      " 3   bathrooms      4600 non-null   float64\n",
      " 4   sqft_living    4600 non-null   int64  \n",
      " 5   sqft_lot       4600 non-null   int64  \n",
      " 6   floors         4600 non-null   float64\n",
      " 7   waterfront     4600 non-null   int64  \n",
      " 8   view           4600 non-null   int64  \n",
      " 9   condition      4600 non-null   int64  \n",
      " 10  sqft_above     4600 non-null   int64  \n",
      " 11  sqft_basement  4600 non-null   int64  \n",
      " 12  yr_built       4600 non-null   int64  \n",
      " 13  yr_renovated   4600 non-null   int64  \n",
      " 14  street         4600 non-null   object \n",
      " 15  city           4600 non-null   object \n",
      " 16  statezip       4600 non-null   object \n",
      " 17  country        4600 non-null   object \n",
      "dtypes: float64(4), int64(9), object(5)\n",
      "memory usage: 647.0+ KB\n"
     ]
    }
   ],
   "source": [
    "df.info()"
   ]
  },
  {
   "cell_type": "markdown",
   "id": "c7090fa8",
   "metadata": {
    "papermill": {
     "duration": 0.008524,
     "end_time": "2025-09-18T19:05:39.883746",
     "exception": false,
     "start_time": "2025-09-18T19:05:39.875222",
     "status": "completed"
    },
    "tags": []
   },
   "source": [
    "<center>\n",
    "  <h3>📐 Dataset Shape (df.shape)</h3>\n",
    "</center>\n",
    "\n",
    "<p>\n",
    "The <code>df.shape</code> attribute shows the dimensions of the dataset:  \n",
    "<ul>\n",
    "  <li>Number of rows (observations)</li>\n",
    "  <li>Number of columns (features)</li>\n",
    "</ul>\n",
    "It helps quickly understand the size of the dataset.\n",
    "</p>\n",
    "<pre style=\"background:#282c34; color:#f8f8f2; padding:10px; border-radius:6px; text-align:left;\">\n"
   ]
  },
  {
   "cell_type": "code",
   "execution_count": 5,
   "id": "05f94838",
   "metadata": {
    "execution": {
     "iopub.execute_input": "2025-09-18T19:05:39.902383Z",
     "iopub.status.busy": "2025-09-18T19:05:39.901956Z",
     "iopub.status.idle": "2025-09-18T19:05:39.907994Z",
     "shell.execute_reply": "2025-09-18T19:05:39.907273Z"
    },
    "papermill": {
     "duration": 0.017529,
     "end_time": "2025-09-18T19:05:39.909418",
     "exception": false,
     "start_time": "2025-09-18T19:05:39.891889",
     "status": "completed"
    },
    "tags": []
   },
   "outputs": [
    {
     "data": {
      "text/plain": [
       "(4600, 18)"
      ]
     },
     "execution_count": 5,
     "metadata": {},
     "output_type": "execute_result"
    }
   ],
   "source": [
    "df.shape"
   ]
  },
  {
   "cell_type": "markdown",
   "id": "a77268c0",
   "metadata": {
    "papermill": {
     "duration": 0.008237,
     "end_time": "2025-09-18T19:05:39.926530",
     "exception": false,
     "start_time": "2025-09-18T19:05:39.918293",
     "status": "completed"
    },
    "tags": []
   },
   "source": [
    "<center>\n",
    "  <h3>⚠️ Missing Values Check (df.isnull().sum())</h3>\n",
    "</center>\n",
    "\n",
    "<p>\n",
    "The <code>df.isnull().sum()</code> method counts the number of missing (null) values in each column.  \n",
    "It helps identify which columns have missing data so we can handle them appropriately before analysis or modeling.\n",
    "</p>\n",
    "<pre style=\"background:#282c34; color:#f8f8f2; padding:10px; border-radius:6px; text-align:left;\">\n"
   ]
  },
  {
   "cell_type": "code",
   "execution_count": 6,
   "id": "97d1c2ad",
   "metadata": {
    "execution": {
     "iopub.execute_input": "2025-09-18T19:05:39.944526Z",
     "iopub.status.busy": "2025-09-18T19:05:39.944210Z",
     "iopub.status.idle": "2025-09-18T19:05:39.953778Z",
     "shell.execute_reply": "2025-09-18T19:05:39.952953Z"
    },
    "papermill": {
     "duration": 0.0204,
     "end_time": "2025-09-18T19:05:39.955231",
     "exception": false,
     "start_time": "2025-09-18T19:05:39.934831",
     "status": "completed"
    },
    "tags": []
   },
   "outputs": [
    {
     "data": {
      "text/plain": [
       "date             0\n",
       "price            0\n",
       "bedrooms         0\n",
       "bathrooms        0\n",
       "sqft_living      0\n",
       "sqft_lot         0\n",
       "floors           0\n",
       "waterfront       0\n",
       "view             0\n",
       "condition        0\n",
       "sqft_above       0\n",
       "sqft_basement    0\n",
       "yr_built         0\n",
       "yr_renovated     0\n",
       "street           0\n",
       "city             0\n",
       "statezip         0\n",
       "country          0\n",
       "dtype: int64"
      ]
     },
     "execution_count": 6,
     "metadata": {},
     "output_type": "execute_result"
    }
   ],
   "source": [
    "df.isnull().sum()"
   ]
  },
  {
   "cell_type": "markdown",
   "id": "210e808e",
   "metadata": {
    "papermill": {
     "duration": 0.008207,
     "end_time": "2025-09-18T19:05:39.972141",
     "exception": false,
     "start_time": "2025-09-18T19:05:39.963934",
     "status": "completed"
    },
    "tags": []
   },
   "source": [
    "<center>\n",
    "  <h3>🔁 Duplicate Rows Check (df.duplicated().sum())</h3>\n",
    "</center>\n",
    "\n",
    "<p>\n",
    "The <code>df.duplicated().sum()</code> method counts the number of duplicate rows in the dataset.  \n",
    "It helps identify and remove repeated entries to ensure data quality before analysis or modeling.\n",
    "</p>\n",
    "<pre style=\"background:#282c34; color:#f8f8f2; padding:10px; border-radius:6px; text-align:left;\">\n"
   ]
  },
  {
   "cell_type": "code",
   "execution_count": 7,
   "id": "1d7dc152",
   "metadata": {
    "execution": {
     "iopub.execute_input": "2025-09-18T19:05:39.990350Z",
     "iopub.status.busy": "2025-09-18T19:05:39.989991Z",
     "iopub.status.idle": "2025-09-18T19:05:40.000738Z",
     "shell.execute_reply": "2025-09-18T19:05:39.999802Z"
    },
    "papermill": {
     "duration": 0.021657,
     "end_time": "2025-09-18T19:05:40.002181",
     "exception": false,
     "start_time": "2025-09-18T19:05:39.980524",
     "status": "completed"
    },
    "tags": []
   },
   "outputs": [
    {
     "data": {
      "text/plain": [
       "0"
      ]
     },
     "execution_count": 7,
     "metadata": {},
     "output_type": "execute_result"
    }
   ],
   "source": [
    "df.duplicated().sum()"
   ]
  },
  {
   "cell_type": "markdown",
   "id": "29a8fe18",
   "metadata": {
    "papermill": {
     "duration": 0.008133,
     "end_time": "2025-09-18T19:05:40.019334",
     "exception": false,
     "start_time": "2025-09-18T19:05:40.011201",
     "status": "completed"
    },
    "tags": []
   },
   "source": [
    "<center>\n",
    "  <h3>📊 Statistical Summary (df.describe())</h3>\n",
    "</center>\n",
    "\n",
    "<p>\n",
    "The <code>df.describe()</code> method provides a statistical summary of the numerical columns in the dataset, including:  \n",
    "<ul>\n",
    "  <li><code>count</code>: Number of non-null entries</li>\n",
    "  <li><code>mean</code>: Average value</li>\n",
    "  <li><code>std</code>: Standard deviation</li>\n",
    "  <li><code>min</code> and <code>max</code>: Minimum and maximum values</li>\n",
    "  <li>25%, 50%, 75% percentiles</li>\n",
    "</ul>\n",
    "It helps understand the distribution and spread of numerical data.\n",
    "</p>\n",
    "<pre style=\"background:#282c34; color:#f8f8f2; padding:10px; border-radius:6px; text-align:left;\">\n"
   ]
  },
  {
   "cell_type": "code",
   "execution_count": 8,
   "id": "f7911913",
   "metadata": {
    "execution": {
     "iopub.execute_input": "2025-09-18T19:05:40.037366Z",
     "iopub.status.busy": "2025-09-18T19:05:40.037010Z",
     "iopub.status.idle": "2025-09-18T19:05:40.074941Z",
     "shell.execute_reply": "2025-09-18T19:05:40.074092Z"
    },
    "papermill": {
     "duration": 0.048768,
     "end_time": "2025-09-18T19:05:40.076447",
     "exception": false,
     "start_time": "2025-09-18T19:05:40.027679",
     "status": "completed"
    },
    "tags": []
   },
   "outputs": [
    {
     "data": {
      "text/html": [
       "<div>\n",
       "<style scoped>\n",
       "    .dataframe tbody tr th:only-of-type {\n",
       "        vertical-align: middle;\n",
       "    }\n",
       "\n",
       "    .dataframe tbody tr th {\n",
       "        vertical-align: top;\n",
       "    }\n",
       "\n",
       "    .dataframe thead th {\n",
       "        text-align: right;\n",
       "    }\n",
       "</style>\n",
       "<table border=\"1\" class=\"dataframe\">\n",
       "  <thead>\n",
       "    <tr style=\"text-align: right;\">\n",
       "      <th></th>\n",
       "      <th>price</th>\n",
       "      <th>bedrooms</th>\n",
       "      <th>bathrooms</th>\n",
       "      <th>sqft_living</th>\n",
       "      <th>sqft_lot</th>\n",
       "      <th>floors</th>\n",
       "      <th>waterfront</th>\n",
       "      <th>view</th>\n",
       "      <th>condition</th>\n",
       "      <th>sqft_above</th>\n",
       "      <th>sqft_basement</th>\n",
       "      <th>yr_built</th>\n",
       "      <th>yr_renovated</th>\n",
       "    </tr>\n",
       "  </thead>\n",
       "  <tbody>\n",
       "    <tr>\n",
       "      <th>count</th>\n",
       "      <td>4.600000e+03</td>\n",
       "      <td>4600.000000</td>\n",
       "      <td>4600.000000</td>\n",
       "      <td>4600.000000</td>\n",
       "      <td>4.600000e+03</td>\n",
       "      <td>4600.000000</td>\n",
       "      <td>4600.000000</td>\n",
       "      <td>4600.000000</td>\n",
       "      <td>4600.000000</td>\n",
       "      <td>4600.000000</td>\n",
       "      <td>4600.000000</td>\n",
       "      <td>4600.000000</td>\n",
       "      <td>4600.000000</td>\n",
       "    </tr>\n",
       "    <tr>\n",
       "      <th>mean</th>\n",
       "      <td>5.519630e+05</td>\n",
       "      <td>3.400870</td>\n",
       "      <td>2.160815</td>\n",
       "      <td>2139.346957</td>\n",
       "      <td>1.485252e+04</td>\n",
       "      <td>1.512065</td>\n",
       "      <td>0.007174</td>\n",
       "      <td>0.240652</td>\n",
       "      <td>3.451739</td>\n",
       "      <td>1827.265435</td>\n",
       "      <td>312.081522</td>\n",
       "      <td>1970.786304</td>\n",
       "      <td>808.608261</td>\n",
       "    </tr>\n",
       "    <tr>\n",
       "      <th>std</th>\n",
       "      <td>5.638347e+05</td>\n",
       "      <td>0.908848</td>\n",
       "      <td>0.783781</td>\n",
       "      <td>963.206916</td>\n",
       "      <td>3.588444e+04</td>\n",
       "      <td>0.538288</td>\n",
       "      <td>0.084404</td>\n",
       "      <td>0.778405</td>\n",
       "      <td>0.677230</td>\n",
       "      <td>862.168977</td>\n",
       "      <td>464.137228</td>\n",
       "      <td>29.731848</td>\n",
       "      <td>979.414536</td>\n",
       "    </tr>\n",
       "    <tr>\n",
       "      <th>min</th>\n",
       "      <td>0.000000e+00</td>\n",
       "      <td>0.000000</td>\n",
       "      <td>0.000000</td>\n",
       "      <td>370.000000</td>\n",
       "      <td>6.380000e+02</td>\n",
       "      <td>1.000000</td>\n",
       "      <td>0.000000</td>\n",
       "      <td>0.000000</td>\n",
       "      <td>1.000000</td>\n",
       "      <td>370.000000</td>\n",
       "      <td>0.000000</td>\n",
       "      <td>1900.000000</td>\n",
       "      <td>0.000000</td>\n",
       "    </tr>\n",
       "    <tr>\n",
       "      <th>25%</th>\n",
       "      <td>3.228750e+05</td>\n",
       "      <td>3.000000</td>\n",
       "      <td>1.750000</td>\n",
       "      <td>1460.000000</td>\n",
       "      <td>5.000750e+03</td>\n",
       "      <td>1.000000</td>\n",
       "      <td>0.000000</td>\n",
       "      <td>0.000000</td>\n",
       "      <td>3.000000</td>\n",
       "      <td>1190.000000</td>\n",
       "      <td>0.000000</td>\n",
       "      <td>1951.000000</td>\n",
       "      <td>0.000000</td>\n",
       "    </tr>\n",
       "    <tr>\n",
       "      <th>50%</th>\n",
       "      <td>4.609435e+05</td>\n",
       "      <td>3.000000</td>\n",
       "      <td>2.250000</td>\n",
       "      <td>1980.000000</td>\n",
       "      <td>7.683000e+03</td>\n",
       "      <td>1.500000</td>\n",
       "      <td>0.000000</td>\n",
       "      <td>0.000000</td>\n",
       "      <td>3.000000</td>\n",
       "      <td>1590.000000</td>\n",
       "      <td>0.000000</td>\n",
       "      <td>1976.000000</td>\n",
       "      <td>0.000000</td>\n",
       "    </tr>\n",
       "    <tr>\n",
       "      <th>75%</th>\n",
       "      <td>6.549625e+05</td>\n",
       "      <td>4.000000</td>\n",
       "      <td>2.500000</td>\n",
       "      <td>2620.000000</td>\n",
       "      <td>1.100125e+04</td>\n",
       "      <td>2.000000</td>\n",
       "      <td>0.000000</td>\n",
       "      <td>0.000000</td>\n",
       "      <td>4.000000</td>\n",
       "      <td>2300.000000</td>\n",
       "      <td>610.000000</td>\n",
       "      <td>1997.000000</td>\n",
       "      <td>1999.000000</td>\n",
       "    </tr>\n",
       "    <tr>\n",
       "      <th>max</th>\n",
       "      <td>2.659000e+07</td>\n",
       "      <td>9.000000</td>\n",
       "      <td>8.000000</td>\n",
       "      <td>13540.000000</td>\n",
       "      <td>1.074218e+06</td>\n",
       "      <td>3.500000</td>\n",
       "      <td>1.000000</td>\n",
       "      <td>4.000000</td>\n",
       "      <td>5.000000</td>\n",
       "      <td>9410.000000</td>\n",
       "      <td>4820.000000</td>\n",
       "      <td>2014.000000</td>\n",
       "      <td>2014.000000</td>\n",
       "    </tr>\n",
       "  </tbody>\n",
       "</table>\n",
       "</div>"
      ],
      "text/plain": [
       "              price     bedrooms    bathrooms   sqft_living      sqft_lot  \\\n",
       "count  4.600000e+03  4600.000000  4600.000000   4600.000000  4.600000e+03   \n",
       "mean   5.519630e+05     3.400870     2.160815   2139.346957  1.485252e+04   \n",
       "std    5.638347e+05     0.908848     0.783781    963.206916  3.588444e+04   \n",
       "min    0.000000e+00     0.000000     0.000000    370.000000  6.380000e+02   \n",
       "25%    3.228750e+05     3.000000     1.750000   1460.000000  5.000750e+03   \n",
       "50%    4.609435e+05     3.000000     2.250000   1980.000000  7.683000e+03   \n",
       "75%    6.549625e+05     4.000000     2.500000   2620.000000  1.100125e+04   \n",
       "max    2.659000e+07     9.000000     8.000000  13540.000000  1.074218e+06   \n",
       "\n",
       "            floors   waterfront         view    condition   sqft_above  \\\n",
       "count  4600.000000  4600.000000  4600.000000  4600.000000  4600.000000   \n",
       "mean      1.512065     0.007174     0.240652     3.451739  1827.265435   \n",
       "std       0.538288     0.084404     0.778405     0.677230   862.168977   \n",
       "min       1.000000     0.000000     0.000000     1.000000   370.000000   \n",
       "25%       1.000000     0.000000     0.000000     3.000000  1190.000000   \n",
       "50%       1.500000     0.000000     0.000000     3.000000  1590.000000   \n",
       "75%       2.000000     0.000000     0.000000     4.000000  2300.000000   \n",
       "max       3.500000     1.000000     4.000000     5.000000  9410.000000   \n",
       "\n",
       "       sqft_basement     yr_built  yr_renovated  \n",
       "count    4600.000000  4600.000000   4600.000000  \n",
       "mean      312.081522  1970.786304    808.608261  \n",
       "std       464.137228    29.731848    979.414536  \n",
       "min         0.000000  1900.000000      0.000000  \n",
       "25%         0.000000  1951.000000      0.000000  \n",
       "50%         0.000000  1976.000000      0.000000  \n",
       "75%       610.000000  1997.000000   1999.000000  \n",
       "max      4820.000000  2014.000000   2014.000000  "
      ]
     },
     "execution_count": 8,
     "metadata": {},
     "output_type": "execute_result"
    }
   ],
   "source": [
    "df.describe()"
   ]
  },
  {
   "cell_type": "markdown",
   "id": "00eca4eb",
   "metadata": {
    "papermill": {
     "duration": 0.008618,
     "end_time": "2025-09-18T19:05:40.094105",
     "exception": false,
     "start_time": "2025-09-18T19:05:40.085487",
     "status": "completed"
    },
    "tags": []
   },
   "source": [
    "<center>\n",
    "  <h3>📊 Importing Visualization Libraries</h3>\n",
    "</center>\n",
    "\n",
    "<p>\n",
    "We import <code>matplotlib.pyplot</code> and <code>seaborn</code> to create visualizations.  \n",
    "<ul>\n",
    "  <li><code>matplotlib</code>: Provides fundamental plotting functions like line, bar, scatter plots</li>\n",
    "  <li><code>seaborn</code>: Built on top of matplotlib, provides advanced statistical plots and better aesthetics</li>\n",
    "</ul>\n",
    "These libraries help in exploring the dataset visually and identifying patterns or trends.\n",
    "</p>\n",
    "<pre style=\"background:#282c34; color:#f8f8f2; padding:10px; border-radius:6px; text-align:left;\">\n"
   ]
  },
  {
   "cell_type": "code",
   "execution_count": 9,
   "id": "a20c1416",
   "metadata": {
    "execution": {
     "iopub.execute_input": "2025-09-18T19:05:40.177918Z",
     "iopub.status.busy": "2025-09-18T19:05:40.177609Z",
     "iopub.status.idle": "2025-09-18T19:05:42.000755Z",
     "shell.execute_reply": "2025-09-18T19:05:41.999820Z"
    },
    "papermill": {
     "duration": 1.834978,
     "end_time": "2025-09-18T19:05:42.002476",
     "exception": false,
     "start_time": "2025-09-18T19:05:40.167498",
     "status": "completed"
    },
    "tags": []
   },
   "outputs": [],
   "source": [
    "import matplotlib.pyplot as plt\n",
    "import seaborn as sns"
   ]
  },
  {
   "cell_type": "markdown",
   "id": "a0bc92e1",
   "metadata": {
    "papermill": {
     "duration": 0.008661,
     "end_time": "2025-09-18T19:05:42.020763",
     "exception": false,
     "start_time": "2025-09-18T19:05:42.012102",
     "status": "completed"
    },
    "tags": []
   },
   "source": [
    "<center>\n",
    "  <h3>🔢 Selecting Numerical Columns</h3>\n",
    "</center>\n",
    "\n",
    "<p>\n",
    "We select all numerical columns in the dataset using:  \n",
    "<code>num_cols = df.select_dtypes(exclude='object').columns</code>  \n",
    "<ul>\n",
    "  <li>This helps isolate features with numeric data types (int, float)</li>\n",
    "  <li>Numerical columns are usually used for statistical analysis, visualization, and model training</li>\n",
    "</ul>\n",
    "Printing <code>num_cols</code> displays the list of all numerical columns in the dataset.\n",
    "</p>\n",
    "<pre style=\"background:#282c34; color:#f8f8f2; padding:10px; border-radius:6px; text-align:left;\">\n"
   ]
  },
  {
   "cell_type": "code",
   "execution_count": 10,
   "id": "032c768d",
   "metadata": {
    "execution": {
     "iopub.execute_input": "2025-09-18T19:05:42.039606Z",
     "iopub.status.busy": "2025-09-18T19:05:42.038899Z",
     "iopub.status.idle": "2025-09-18T19:05:42.046183Z",
     "shell.execute_reply": "2025-09-18T19:05:42.045273Z"
    },
    "papermill": {
     "duration": 0.018151,
     "end_time": "2025-09-18T19:05:42.047527",
     "exception": false,
     "start_time": "2025-09-18T19:05:42.029376",
     "status": "completed"
    },
    "tags": []
   },
   "outputs": [
    {
     "data": {
      "text/plain": [
       "Index(['price', 'bedrooms', 'bathrooms', 'sqft_living', 'sqft_lot', 'floors',\n",
       "       'waterfront', 'view', 'condition', 'sqft_above', 'sqft_basement',\n",
       "       'yr_built', 'yr_renovated'],\n",
       "      dtype='object')"
      ]
     },
     "execution_count": 10,
     "metadata": {},
     "output_type": "execute_result"
    }
   ],
   "source": [
    "num_cols = df.select_dtypes(exclude='object').columns\n",
    "num_cols"
   ]
  },
  {
   "cell_type": "markdown",
   "id": "c19b7489",
   "metadata": {
    "papermill": {
     "duration": 0.010338,
     "end_time": "2025-09-18T19:05:42.067103",
     "exception": false,
     "start_time": "2025-09-18T19:05:42.056765",
     "status": "completed"
    },
    "tags": []
   },
   "source": [
    "<center>\n",
    "  <h3>📊 Distribution of Numerical Columns</h3>\n",
    "</center>\n",
    "\n",
    "<p>\n",
    "We visualize the distribution of all numerical columns using histograms:  \n",
    "<pre style=\"background:#282c34; color:#f8f8f2; padding:10px; border-radius:6px; text-align:left;\">\n"
   ]
  },
  {
   "cell_type": "code",
   "execution_count": 11,
   "id": "e4abb41b",
   "metadata": {
    "execution": {
     "iopub.execute_input": "2025-09-18T19:05:42.087347Z",
     "iopub.status.busy": "2025-09-18T19:05:42.087000Z",
     "iopub.status.idle": "2025-09-18T19:05:44.359402Z",
     "shell.execute_reply": "2025-09-18T19:05:44.358597Z"
    },
    "papermill": {
     "duration": 2.283799,
     "end_time": "2025-09-18T19:05:44.360977",
     "exception": false,
     "start_time": "2025-09-18T19:05:42.077178",
     "status": "completed"
    },
    "tags": []
   },
   "outputs": [
    {
     "data": {
      "image/png": "[encoded data removed]",
      "text/plain": [
       "<Figure size 640x480 with 1 Axes>"
      ]
     },
     "metadata": {},
     "output_type": "display_data"
    },
    {
     "data": {
      "image/png": "[encoded data removed]",
      "text/plain": [
       "<Figure size 640x480 with 1 Axes>"
      ]
     },
     "metadata": {},
     "output_type": "display_data"
    },
    {
     "data": {
      "image/png": "[encoded data removed]",
      "text/plain": [
       "<Figure size 640x480 with 1 Axes>"
      ]
     },
     "metadata": {},
     "output_type": "display_data"
    },
    {
     "data": {
      "image/png": "[encoded data removed]",
      "text/plain": [
       "<Figure size 640x480 with 1 Axes>"
      ]
     },
     "metadata": {},
     "output_type": "display_data"
    },
    {
     "data": {
      "image/png": "[encoded data removed]",
      "text/plain": [
       "<Figure size 640x480 with 1 Axes>"
      ]
     },
     "metadata": {},
     "output_type": "display_data"
    },
    {
     "data": {
      "image/png": "[encoded data removed]",
      "text/plain": [
       "<Figure size 640x480 with 1 Axes>"
      ]
     },
     "metadata": {},
     "output_type": "display_data"
    },
    {
     "data": {
      "image/png": "[encoded data removed]",
      "text/plain": [
       "<Figure size 640x480 with 1 Axes>"
      ]
     },
     "metadata": {},
     "output_type": "display_data"
    },
    {
     "data": {
      "image/png": "[encoded data removed]",
      "text/plain": [
       "<Figure size 640x480 with 1 Axes>"
      ]
     },
     "metadata": {},
     "output_type": "display_data"
    },
    {
     "data": {
      "image/png": "[encoded data removed]",
      "text/plain": [
       "<Figure size 640x480 with 1 Axes>"
      ]
     },
     "metadata": {},
     "output_type": "display_data"
    },
    {
     "data": {
      "image/png": "[encoded data removed]",
      "text/plain": [
       "<Figure size 640x480 with 1 Axes>"
      ]
     },
     "metadata": {},
     "output_type": "display_data"
    },
    {
     "data": {
      "image/png": "[encoded data removed]",
      "text/plain": [
       "<Figure size 640x480 with 1 Axes>"
      ]
     },
     "metadata": {},
     "output_type": "display_data"
    },
    {
     "data": {
      "image/png": "[encoded data removed]",
      "text/plain": [
       "<Figure size 640x480 with 1 Axes>"
      ]
     },
     "metadata": {},
     "output_type": "display_data"
    },
    {
     "data": {
      "image/png": "[encoded data removed]",
      "text/plain": [
       "<Figure size 640x480 with 1 Axes>"
      ]
     },
     "metadata": {},
     "output_type": "display_data"
    }
   ],
   "source": [
    "for i in  num_cols:\n",
    "    plt.hist(df[i])\n",
    "    plt.title(f\"Distribution of {i}\")\n",
    "    plt.show()"
   ]
  },
  {
   "cell_type": "markdown",
   "id": "76072733",
   "metadata": {
    "papermill": {
     "duration": 0.014221,
     "end_time": "2025-09-18T19:05:44.390101",
     "exception": false,
     "start_time": "2025-09-18T19:05:44.375880",
     "status": "completed"
    },
    "tags": []
   },
   "source": [
    "1. Remove records where house price is 0.\n",
    "2. Create a new column to indicate whether a house has been renovated and provide         weights according to renovation period.\n",
    "3. Add a ne column to get the age of the house.\n",
    "4. Remove outliers from column using IQR or Z-Score.\n",
    "5. Fix the floor column and ensure only only whole numbers in it.\n",
    "6. On Hot Encoding the city column.\n",
    "7. Removing the data, street, country, state zip code, city, year built and year          renovated.\n",
    "8. Converting the unit of price column to thousand."
   ]
  },
  {
   "cell_type": "code",
   "execution_count": 12,
   "id": "45174b52",
   "metadata": {
    "execution": {
     "iopub.execute_input": "2025-09-18T19:05:44.420799Z",
     "iopub.status.busy": "2025-09-18T19:05:44.420438Z",
     "iopub.status.idle": "2025-09-18T19:05:44.427318Z",
     "shell.execute_reply": "2025-09-18T19:05:44.426478Z"
    },
    "papermill": {
     "duration": 0.023854,
     "end_time": "2025-09-18T19:05:44.428670",
     "exception": false,
     "start_time": "2025-09-18T19:05:44.404816",
     "status": "completed"
    },
    "tags": []
   },
   "outputs": [
    {
     "data": {
      "text/plain": [
       "4525"
      ]
     },
     "execution_count": 12,
     "metadata": {},
     "output_type": "execute_result"
    }
   ],
   "source": [
    "df['street'].nunique()"
   ]
  },
  {
   "cell_type": "code",
   "execution_count": 13,
   "id": "8b8a8eae",
   "metadata": {
    "execution": {
     "iopub.execute_input": "2025-09-18T19:05:44.459687Z",
     "iopub.status.busy": "2025-09-18T19:05:44.459350Z",
     "iopub.status.idle": "2025-09-18T19:05:44.465561Z",
     "shell.execute_reply": "2025-09-18T19:05:44.464748Z"
    },
    "papermill": {
     "duration": 0.02327,
     "end_time": "2025-09-18T19:05:44.466840",
     "exception": false,
     "start_time": "2025-09-18T19:05:44.443570",
     "status": "completed"
    },
    "tags": []
   },
   "outputs": [
    {
     "data": {
      "text/plain": [
       "44"
      ]
     },
     "execution_count": 13,
     "metadata": {},
     "output_type": "execute_result"
    }
   ],
   "source": [
    "df['city'].nunique()"
   ]
  },
  {
   "cell_type": "code",
   "execution_count": 14,
   "id": "daef1ef9",
   "metadata": {
    "execution": {
     "iopub.execute_input": "2025-09-18T19:05:44.498459Z",
     "iopub.status.busy": "2025-09-18T19:05:44.498070Z",
     "iopub.status.idle": "2025-09-18T19:05:44.506520Z",
     "shell.execute_reply": "2025-09-18T19:05:44.505802Z"
    },
    "papermill": {
     "duration": 0.025938,
     "end_time": "2025-09-18T19:05:44.507925",
     "exception": false,
     "start_time": "2025-09-18T19:05:44.481987",
     "status": "completed"
    },
    "tags": []
   },
   "outputs": [],
   "source": [
    "df = df[df['price']!=0] # removing records with house price 0"
   ]
  },
  {
   "cell_type": "code",
   "execution_count": 15,
   "id": "a2e5f60a",
   "metadata": {
    "execution": {
     "iopub.execute_input": "2025-09-18T19:05:44.538947Z",
     "iopub.status.busy": "2025-09-18T19:05:44.538643Z",
     "iopub.status.idle": "2025-09-18T19:05:44.544211Z",
     "shell.execute_reply": "2025-09-18T19:05:44.543351Z"
    },
    "papermill": {
     "duration": 0.022763,
     "end_time": "2025-09-18T19:05:44.545663",
     "exception": false,
     "start_time": "2025-09-18T19:05:44.522900",
     "status": "completed"
    },
    "tags": []
   },
   "outputs": [
    {
     "data": {
      "text/plain": [
       "(4551, 18)"
      ]
     },
     "execution_count": 15,
     "metadata": {},
     "output_type": "execute_result"
    }
   ],
   "source": [
    "df.shape"
   ]
  },
  {
   "cell_type": "code",
   "execution_count": 16,
   "id": "bf25b281",
   "metadata": {
    "execution": {
     "iopub.execute_input": "2025-09-18T19:05:44.577796Z",
     "iopub.status.busy": "2025-09-18T19:05:44.576983Z",
     "iopub.status.idle": "2025-09-18T19:05:44.585201Z",
     "shell.execute_reply": "2025-09-18T19:05:44.584421Z"
    },
    "papermill": {
     "duration": 0.025892,
     "end_time": "2025-09-18T19:05:44.586685",
     "exception": false,
     "start_time": "2025-09-18T19:05:44.560793",
     "status": "completed"
    },
    "tags": []
   },
   "outputs": [],
   "source": [
    "# providing weight \n",
    "def get_renovation_weight(year=2025):\n",
    "    if year == 0:\n",
    "        return 0\n",
    "    if  2000 < year <=2025:\n",
    "        return 4\n",
    "    elif 1950 <= year <= 2000:\n",
    "        return 3\n",
    "    elif 1900 <= year < 1950:\n",
    "        return 2\n",
    "    else:\n",
    "        return 0.1\n",
    "\n",
    "df['renovation']= df['yr_renovated'].apply(get_renovation_weight)"
   ]
  },
  {
   "cell_type": "code",
   "execution_count": 17,
   "id": "71a34a16",
   "metadata": {
    "execution": {
     "iopub.execute_input": "2025-09-18T19:05:44.618184Z",
     "iopub.status.busy": "2025-09-18T19:05:44.617855Z",
     "iopub.status.idle": "2025-09-18T19:05:44.633654Z",
     "shell.execute_reply": "2025-09-18T19:05:44.632928Z"
    },
    "papermill": {
     "duration": 0.033258,
     "end_time": "2025-09-18T19:05:44.634974",
     "exception": false,
     "start_time": "2025-09-18T19:05:44.601716",
     "status": "completed"
    },
    "tags": []
   },
   "outputs": [
    {
     "data": {
      "text/html": [
       "<div>\n",
       "<style scoped>\n",
       "    .dataframe tbody tr th:only-of-type {\n",
       "        vertical-align: middle;\n",
       "    }\n",
       "\n",
       "    .dataframe tbody tr th {\n",
       "        vertical-align: top;\n",
       "    }\n",
       "\n",
       "    .dataframe thead th {\n",
       "        text-align: right;\n",
       "    }\n",
       "</style>\n",
       "<table border=\"1\" class=\"dataframe\">\n",
       "  <thead>\n",
       "    <tr style=\"text-align: right;\">\n",
       "      <th></th>\n",
       "      <th>date</th>\n",
       "      <th>price</th>\n",
       "      <th>bedrooms</th>\n",
       "      <th>bathrooms</th>\n",
       "      <th>sqft_living</th>\n",
       "      <th>sqft_lot</th>\n",
       "      <th>floors</th>\n",
       "      <th>waterfront</th>\n",
       "      <th>view</th>\n",
       "      <th>condition</th>\n",
       "      <th>sqft_above</th>\n",
       "      <th>sqft_basement</th>\n",
       "      <th>yr_built</th>\n",
       "      <th>yr_renovated</th>\n",
       "      <th>street</th>\n",
       "      <th>city</th>\n",
       "      <th>statezip</th>\n",
       "      <th>country</th>\n",
       "      <th>renovation</th>\n",
       "    </tr>\n",
       "  </thead>\n",
       "  <tbody>\n",
       "    <tr>\n",
       "      <th>0</th>\n",
       "      <td>2014-05-02 00:00:00</td>\n",
       "      <td>313000.0</td>\n",
       "      <td>3.0</td>\n",
       "      <td>1.50</td>\n",
       "      <td>1340</td>\n",
       "      <td>7912</td>\n",
       "      <td>1.5</td>\n",
       "      <td>0</td>\n",
       "      <td>0</td>\n",
       "      <td>3</td>\n",
       "      <td>1340</td>\n",
       "      <td>0</td>\n",
       "      <td>1955</td>\n",
       "      <td>2005</td>\n",
       "      <td>18810 Densmore Ave N</td>\n",
       "      <td>Shoreline</td>\n",
       "      <td>WA 98133</td>\n",
       "      <td>USA</td>\n",
       "      <td>4</td>\n",
       "    </tr>\n",
       "    <tr>\n",
       "      <th>1</th>\n",
       "      <td>2014-05-02 00:00:00</td>\n",
       "      <td>2384000.0</td>\n",
       "      <td>5.0</td>\n",
       "      <td>2.50</td>\n",
       "      <td>3650</td>\n",
       "      <td>9050</td>\n",
       "      <td>2.0</td>\n",
       "      <td>0</td>\n",
       "      <td>4</td>\n",
       "      <td>5</td>\n",
       "      <td>3370</td>\n",
       "      <td>280</td>\n",
       "      <td>1921</td>\n",
       "      <td>0</td>\n",
       "      <td>709 W Blaine St</td>\n",
       "      <td>Seattle</td>\n",
       "      <td>WA 98119</td>\n",
       "      <td>USA</td>\n",
       "      <td>0</td>\n",
       "    </tr>\n",
       "    <tr>\n",
       "      <th>2</th>\n",
       "      <td>2014-05-02 00:00:00</td>\n",
       "      <td>342000.0</td>\n",
       "      <td>3.0</td>\n",
       "      <td>2.00</td>\n",
       "      <td>1930</td>\n",
       "      <td>11947</td>\n",
       "      <td>1.0</td>\n",
       "      <td>0</td>\n",
       "      <td>0</td>\n",
       "      <td>4</td>\n",
       "      <td>1930</td>\n",
       "      <td>0</td>\n",
       "      <td>1966</td>\n",
       "      <td>0</td>\n",
       "      <td>26206-26214 143rd Ave SE</td>\n",
       "      <td>Kent</td>\n",
       "      <td>WA 98042</td>\n",
       "      <td>USA</td>\n",
       "      <td>0</td>\n",
       "    </tr>\n",
       "    <tr>\n",
       "      <th>3</th>\n",
       "      <td>2014-05-02 00:00:00</td>\n",
       "      <td>420000.0</td>\n",
       "      <td>3.0</td>\n",
       "      <td>2.25</td>\n",
       "      <td>2000</td>\n",
       "      <td>8030</td>\n",
       "      <td>1.0</td>\n",
       "      <td>0</td>\n",
       "      <td>0</td>\n",
       "      <td>4</td>\n",
       "      <td>1000</td>\n",
       "      <td>1000</td>\n",
       "      <td>1963</td>\n",
       "      <td>0</td>\n",
       "      <td>857 170th Pl NE</td>\n",
       "      <td>Bellevue</td>\n",
       "      <td>WA 98008</td>\n",
       "      <td>USA</td>\n",
       "      <td>0</td>\n",
       "    </tr>\n",
       "    <tr>\n",
       "      <th>4</th>\n",
       "      <td>2014-05-02 00:00:00</td>\n",
       "      <td>550000.0</td>\n",
       "      <td>4.0</td>\n",
       "      <td>2.50</td>\n",
       "      <td>1940</td>\n",
       "      <td>10500</td>\n",
       "      <td>1.0</td>\n",
       "      <td>0</td>\n",
       "      <td>0</td>\n",
       "      <td>4</td>\n",
       "      <td>1140</td>\n",
       "      <td>800</td>\n",
       "      <td>1976</td>\n",
       "      <td>1992</td>\n",
       "      <td>9105 170th Ave NE</td>\n",
       "      <td>Redmond</td>\n",
       "      <td>WA 98052</td>\n",
       "      <td>USA</td>\n",
       "      <td>3</td>\n",
       "    </tr>\n",
       "  </tbody>\n",
       "</table>\n",
       "</div>"
      ],
      "text/plain": [
       "                  date      price  bedrooms  bathrooms  sqft_living  sqft_lot  \\\n",
       "0  2014-05-02 00:00:00   313000.0       3.0       1.50         1340      7912   \n",
       "1  2014-05-02 00:00:00  2384000.0       5.0       2.50         3650      9050   \n",
       "2  2014-05-02 00:00:00   342000.0       3.0       2.00         1930     11947   \n",
       "3  2014-05-02 00:00:00   420000.0       3.0       2.25         2000      8030   \n",
       "4  2014-05-02 00:00:00   550000.0       4.0       2.50         1940     10500   \n",
       "\n",
       "   floors  waterfront  view  condition  sqft_above  sqft_basement  yr_built  \\\n",
       "0     1.5           0     0          3        1340              0      1955   \n",
       "1     2.0           0     4          5        3370            280      1921   \n",
       "2     1.0           0     0          4        1930              0      1966   \n",
       "3     1.0           0     0          4        1000           1000      1963   \n",
       "4     1.0           0     0          4        1140            800      1976   \n",
       "\n",
       "   yr_renovated                    street       city  statezip country  \\\n",
       "0          2005      18810 Densmore Ave N  Shoreline  WA 98133     USA   \n",
       "1             0           709 W Blaine St    Seattle  WA 98119     USA   \n",
       "2             0  26206-26214 143rd Ave SE       Kent  WA 98042     USA   \n",
       "3             0           857 170th Pl NE   Bellevue  WA 98008     USA   \n",
       "4          1992         9105 170th Ave NE    Redmond  WA 98052     USA   \n",
       "\n",
       "   renovation  \n",
       "0           4  \n",
       "1           0  \n",
       "2           0  \n",
       "3           0  \n",
       "4           3  "
      ]
     },
     "execution_count": 17,
     "metadata": {},
     "output_type": "execute_result"
    }
   ],
   "source": [
    "df.head()"
   ]
  },
  {
   "cell_type": "code",
   "execution_count": 18,
   "id": "3a6569a5",
   "metadata": {
    "execution": {
     "iopub.execute_input": "2025-09-18T19:05:44.666811Z",
     "iopub.status.busy": "2025-09-18T19:05:44.666495Z",
     "iopub.status.idle": "2025-09-18T19:05:44.671700Z",
     "shell.execute_reply": "2025-09-18T19:05:44.670970Z"
    },
    "papermill": {
     "duration": 0.022685,
     "end_time": "2025-09-18T19:05:44.672985",
     "exception": false,
     "start_time": "2025-09-18T19:05:44.650300",
     "status": "completed"
    },
    "tags": []
   },
   "outputs": [],
   "source": [
    "df['floors'] = df['floors'].round().astype(int)"
   ]
  },
  {
   "cell_type": "code",
   "execution_count": 19,
   "id": "28d7b645",
   "metadata": {
    "execution": {
     "iopub.execute_input": "2025-09-18T19:05:44.704612Z",
     "iopub.status.busy": "2025-09-18T19:05:44.704301Z",
     "iopub.status.idle": "2025-09-18T19:05:44.713848Z",
     "shell.execute_reply": "2025-09-18T19:05:44.713094Z"
    },
    "papermill": {
     "duration": 0.027151,
     "end_time": "2025-09-18T19:05:44.715376",
     "exception": false,
     "start_time": "2025-09-18T19:05:44.688225",
     "status": "completed"
    },
    "tags": []
   },
   "outputs": [],
   "source": [
    "df_encoded = pd.get_dummies(df, columns=['city'], drop_first=True)"
   ]
  },
  {
   "cell_type": "code",
   "execution_count": 20,
   "id": "15cd4492",
   "metadata": {
    "execution": {
     "iopub.execute_input": "2025-09-18T19:05:44.747646Z",
     "iopub.status.busy": "2025-09-18T19:05:44.747332Z",
     "iopub.status.idle": "2025-09-18T19:05:44.753159Z",
     "shell.execute_reply": "2025-09-18T19:05:44.752182Z"
    },
    "papermill": {
     "duration": 0.023526,
     "end_time": "2025-09-18T19:05:44.754671",
     "exception": false,
     "start_time": "2025-09-18T19:05:44.731145",
     "status": "completed"
    },
    "tags": []
   },
   "outputs": [],
   "source": [
    "df_encoded['house_age']= 2025 - df_encoded['yr_built']"
   ]
  },
  {
   "cell_type": "code",
   "execution_count": 21,
   "id": "0620f785",
   "metadata": {
    "execution": {
     "iopub.execute_input": "2025-09-18T19:05:44.786739Z",
     "iopub.status.busy": "2025-09-18T19:05:44.786423Z",
     "iopub.status.idle": "2025-09-18T19:05:44.791619Z",
     "shell.execute_reply": "2025-09-18T19:05:44.790907Z"
    },
    "papermill": {
     "duration": 0.022763,
     "end_time": "2025-09-18T19:05:44.792959",
     "exception": false,
     "start_time": "2025-09-18T19:05:44.770196",
     "status": "completed"
    },
    "tags": []
   },
   "outputs": [],
   "source": [
    "df_encoded['Price (Thousands)'] = df_encoded['price']/1000"
   ]
  },
  {
   "cell_type": "code",
   "execution_count": 22,
   "id": "cc67cbd9",
   "metadata": {
    "execution": {
     "iopub.execute_input": "2025-09-18T19:05:44.826367Z",
     "iopub.status.busy": "2025-09-18T19:05:44.825868Z",
     "iopub.status.idle": "2025-09-18T19:05:44.868335Z",
     "shell.execute_reply": "2025-09-18T19:05:44.867459Z"
    },
    "papermill": {
     "duration": 0.060454,
     "end_time": "2025-09-18T19:05:44.869757",
     "exception": false,
     "start_time": "2025-09-18T19:05:44.809303",
     "status": "completed"
    },
    "tags": []
   },
   "outputs": [
    {
     "data": {
      "text/html": [
       "<div>\n",
       "<style scoped>\n",
       "    .dataframe tbody tr th:only-of-type {\n",
       "        vertical-align: middle;\n",
       "    }\n",
       "\n",
       "    .dataframe tbody tr th {\n",
       "        vertical-align: top;\n",
       "    }\n",
       "\n",
       "    .dataframe thead th {\n",
       "        text-align: right;\n",
       "    }\n",
       "</style>\n",
       "<table border=\"1\" class=\"dataframe\">\n",
       "  <thead>\n",
       "    <tr style=\"text-align: right;\">\n",
       "      <th></th>\n",
       "      <th>price</th>\n",
       "      <th>bedrooms</th>\n",
       "      <th>bathrooms</th>\n",
       "      <th>sqft_living</th>\n",
       "      <th>sqft_lot</th>\n",
       "      <th>floors</th>\n",
       "      <th>waterfront</th>\n",
       "      <th>view</th>\n",
       "      <th>condition</th>\n",
       "      <th>sqft_above</th>\n",
       "      <th>sqft_basement</th>\n",
       "      <th>yr_built</th>\n",
       "      <th>yr_renovated</th>\n",
       "      <th>renovation</th>\n",
       "      <th>house_age</th>\n",
       "      <th>Price (Thousands)</th>\n",
       "    </tr>\n",
       "  </thead>\n",
       "  <tbody>\n",
       "    <tr>\n",
       "      <th>count</th>\n",
       "      <td>4.551000e+03</td>\n",
       "      <td>4551.000000</td>\n",
       "      <td>4551.000000</td>\n",
       "      <td>4551.000000</td>\n",
       "      <td>4.551000e+03</td>\n",
       "      <td>4551.000000</td>\n",
       "      <td>4551.000000</td>\n",
       "      <td>4551.000000</td>\n",
       "      <td>4551.000000</td>\n",
       "      <td>4551.000000</td>\n",
       "      <td>4551.000000</td>\n",
       "      <td>4551.000000</td>\n",
       "      <td>4551.000000</td>\n",
       "      <td>4551.000000</td>\n",
       "      <td>4551.000000</td>\n",
       "      <td>4551.000000</td>\n",
       "    </tr>\n",
       "    <tr>\n",
       "      <th>mean</th>\n",
       "      <td>5.579059e+05</td>\n",
       "      <td>3.394639</td>\n",
       "      <td>2.155021</td>\n",
       "      <td>2132.372226</td>\n",
       "      <td>1.483528e+04</td>\n",
       "      <td>1.556142</td>\n",
       "      <td>0.006592</td>\n",
       "      <td>0.234674</td>\n",
       "      <td>3.449352</td>\n",
       "      <td>1822.221710</td>\n",
       "      <td>310.150516</td>\n",
       "      <td>1970.795649</td>\n",
       "      <td>808.564052</td>\n",
       "      <td>1.403208</td>\n",
       "      <td>54.204351</td>\n",
       "      <td>557.905899</td>\n",
       "    </tr>\n",
       "    <tr>\n",
       "      <th>std</th>\n",
       "      <td>5.639299e+05</td>\n",
       "      <td>0.904595</td>\n",
       "      <td>0.776351</td>\n",
       "      <td>955.949708</td>\n",
       "      <td>3.596408e+04</td>\n",
       "      <td>0.552597</td>\n",
       "      <td>0.080932</td>\n",
       "      <td>0.765373</td>\n",
       "      <td>0.675160</td>\n",
       "      <td>854.452888</td>\n",
       "      <td>461.987629</td>\n",
       "      <td>29.760073</td>\n",
       "      <td>979.421487</td>\n",
       "      <td>1.741990</td>\n",
       "      <td>29.760073</td>\n",
       "      <td>563.929871</td>\n",
       "    </tr>\n",
       "    <tr>\n",
       "      <th>min</th>\n",
       "      <td>7.800000e+03</td>\n",
       "      <td>0.000000</td>\n",
       "      <td>0.000000</td>\n",
       "      <td>370.000000</td>\n",
       "      <td>6.380000e+02</td>\n",
       "      <td>1.000000</td>\n",
       "      <td>0.000000</td>\n",
       "      <td>0.000000</td>\n",
       "      <td>1.000000</td>\n",
       "      <td>370.000000</td>\n",
       "      <td>0.000000</td>\n",
       "      <td>1900.000000</td>\n",
       "      <td>0.000000</td>\n",
       "      <td>0.000000</td>\n",
       "      <td>11.000000</td>\n",
       "      <td>7.800000</td>\n",
       "    </tr>\n",
       "    <tr>\n",
       "      <th>25%</th>\n",
       "      <td>3.262643e+05</td>\n",
       "      <td>3.000000</td>\n",
       "      <td>1.750000</td>\n",
       "      <td>1460.000000</td>\n",
       "      <td>5.000000e+03</td>\n",
       "      <td>1.000000</td>\n",
       "      <td>0.000000</td>\n",
       "      <td>0.000000</td>\n",
       "      <td>3.000000</td>\n",
       "      <td>1190.000000</td>\n",
       "      <td>0.000000</td>\n",
       "      <td>1951.000000</td>\n",
       "      <td>0.000000</td>\n",
       "      <td>0.000000</td>\n",
       "      <td>28.000000</td>\n",
       "      <td>326.264286</td>\n",
       "    </tr>\n",
       "    <tr>\n",
       "      <th>50%</th>\n",
       "      <td>4.650000e+05</td>\n",
       "      <td>3.000000</td>\n",
       "      <td>2.250000</td>\n",
       "      <td>1970.000000</td>\n",
       "      <td>7.680000e+03</td>\n",
       "      <td>2.000000</td>\n",
       "      <td>0.000000</td>\n",
       "      <td>0.000000</td>\n",
       "      <td>3.000000</td>\n",
       "      <td>1590.000000</td>\n",
       "      <td>0.000000</td>\n",
       "      <td>1976.000000</td>\n",
       "      <td>0.000000</td>\n",
       "      <td>0.000000</td>\n",
       "      <td>49.000000</td>\n",
       "      <td>465.000000</td>\n",
       "    </tr>\n",
       "    <tr>\n",
       "      <th>75%</th>\n",
       "      <td>6.575000e+05</td>\n",
       "      <td>4.000000</td>\n",
       "      <td>2.500000</td>\n",
       "      <td>2610.000000</td>\n",
       "      <td>1.097800e+04</td>\n",
       "      <td>2.000000</td>\n",
       "      <td>0.000000</td>\n",
       "      <td>0.000000</td>\n",
       "      <td>4.000000</td>\n",
       "      <td>2300.000000</td>\n",
       "      <td>600.000000</td>\n",
       "      <td>1997.000000</td>\n",
       "      <td>1999.000000</td>\n",
       "      <td>3.000000</td>\n",
       "      <td>74.000000</td>\n",
       "      <td>657.500000</td>\n",
       "    </tr>\n",
       "    <tr>\n",
       "      <th>max</th>\n",
       "      <td>2.659000e+07</td>\n",
       "      <td>9.000000</td>\n",
       "      <td>8.000000</td>\n",
       "      <td>13540.000000</td>\n",
       "      <td>1.074218e+06</td>\n",
       "      <td>4.000000</td>\n",
       "      <td>1.000000</td>\n",
       "      <td>4.000000</td>\n",
       "      <td>5.000000</td>\n",
       "      <td>9410.000000</td>\n",
       "      <td>4820.000000</td>\n",
       "      <td>2014.000000</td>\n",
       "      <td>2014.000000</td>\n",
       "      <td>4.000000</td>\n",
       "      <td>125.000000</td>\n",
       "      <td>26590.000000</td>\n",
       "    </tr>\n",
       "  </tbody>\n",
       "</table>\n",
       "</div>"
      ],
      "text/plain": [
       "              price     bedrooms    bathrooms   sqft_living      sqft_lot  \\\n",
       "count  4.551000e+03  4551.000000  4551.000000   4551.000000  4.551000e+03   \n",
       "mean   5.579059e+05     3.394639     2.155021   2132.372226  1.483528e+04   \n",
       "std    5.639299e+05     0.904595     0.776351    955.949708  3.596408e+04   \n",
       "min    7.800000e+03     0.000000     0.000000    370.000000  6.380000e+02   \n",
       "25%    3.262643e+05     3.000000     1.750000   1460.000000  5.000000e+03   \n",
       "50%    4.650000e+05     3.000000     2.250000   1970.000000  7.680000e+03   \n",
       "75%    6.575000e+05     4.000000     2.500000   2610.000000  1.097800e+04   \n",
       "max    2.659000e+07     9.000000     8.000000  13540.000000  1.074218e+06   \n",
       "\n",
       "            floors   waterfront         view    condition   sqft_above  \\\n",
       "count  4551.000000  4551.000000  4551.000000  4551.000000  4551.000000   \n",
       "mean      1.556142     0.006592     0.234674     3.449352  1822.221710   \n",
       "std       0.552597     0.080932     0.765373     0.675160   854.452888   \n",
       "min       1.000000     0.000000     0.000000     1.000000   370.000000   \n",
       "25%       1.000000     0.000000     0.000000     3.000000  1190.000000   \n",
       "50%       2.000000     0.000000     0.000000     3.000000  1590.000000   \n",
       "75%       2.000000     0.000000     0.000000     4.000000  2300.000000   \n",
       "max       4.000000     1.000000     4.000000     5.000000  9410.000000   \n",
       "\n",
       "       sqft_basement     yr_built  yr_renovated   renovation    house_age  \\\n",
       "count    4551.000000  4551.000000   4551.000000  4551.000000  4551.000000   \n",
       "mean      310.150516  1970.795649    808.564052     1.403208    54.204351   \n",
       "std       461.987629    29.760073    979.421487     1.741990    29.760073   \n",
       "min         0.000000  1900.000000      0.000000     0.000000    11.000000   \n",
       "25%         0.000000  1951.000000      0.000000     0.000000    28.000000   \n",
       "50%         0.000000  1976.000000      0.000000     0.000000    49.000000   \n",
       "75%       600.000000  1997.000000   1999.000000     3.000000    74.000000   \n",
       "max      4820.000000  2014.000000   2014.000000     4.000000   125.000000   \n",
       "\n",
       "       Price (Thousands)  \n",
       "count        4551.000000  \n",
       "mean          557.905899  \n",
       "std           563.929871  \n",
       "min             7.800000  \n",
       "25%           326.264286  \n",
       "50%           465.000000  \n",
       "75%           657.500000  \n",
       "max         26590.000000  "
      ]
     },
     "execution_count": 22,
     "metadata": {},
     "output_type": "execute_result"
    }
   ],
   "source": [
    "df_encoded.describe()"
   ]
  },
  {
   "cell_type": "code",
   "execution_count": 23,
   "id": "ec0c0034",
   "metadata": {
    "execution": {
     "iopub.execute_input": "2025-09-18T19:05:44.902394Z",
     "iopub.status.busy": "2025-09-18T19:05:44.901718Z",
     "iopub.status.idle": "2025-09-18T19:05:45.048370Z",
     "shell.execute_reply": "2025-09-18T19:05:45.047441Z"
    },
    "papermill": {
     "duration": 0.164388,
     "end_time": "2025-09-18T19:05:45.049863",
     "exception": false,
     "start_time": "2025-09-18T19:05:44.885475",
     "status": "completed"
    },
    "tags": []
   },
   "outputs": [
    {
     "data": {
      "image/png": "[encoded data removed]",
      "text/plain": [
       "<Figure size 640x480 with 1 Axes>"
      ]
     },
     "metadata": {},
     "output_type": "display_data"
    }
   ],
   "source": [
    "plt.hist(df_encoded['Price (Thousands)'],bins = 20)\n",
    "plt.show()"
   ]
  },
  {
   "cell_type": "code",
   "execution_count": 24,
   "id": "ec5254a2",
   "metadata": {
    "execution": {
     "iopub.execute_input": "2025-09-18T19:05:45.084472Z",
     "iopub.status.busy": "2025-09-18T19:05:45.084179Z",
     "iopub.status.idle": "2025-09-18T19:05:45.091303Z",
     "shell.execute_reply": "2025-09-18T19:05:45.090545Z"
    },
    "papermill": {
     "duration": 0.02579,
     "end_time": "2025-09-18T19:05:45.092646",
     "exception": false,
     "start_time": "2025-09-18T19:05:45.066856",
     "status": "completed"
    },
    "tags": []
   },
   "outputs": [],
   "source": [
    "q1 = df_encoded['Price (Thousands)'].quantile(0.25)\n",
    "q3 = df_encoded['Price (Thousands)'].quantile(0.75)"
   ]
  },
  {
   "cell_type": "code",
   "execution_count": 25,
   "id": "f0cba1cd",
   "metadata": {
    "execution": {
     "iopub.execute_input": "2025-09-18T19:05:45.126387Z",
     "iopub.status.busy": "2025-09-18T19:05:45.125677Z",
     "iopub.status.idle": "2025-09-18T19:05:45.130483Z",
     "shell.execute_reply": "2025-09-18T19:05:45.129508Z"
    },
    "papermill": {
     "duration": 0.022997,
     "end_time": "2025-09-18T19:05:45.131838",
     "exception": false,
     "start_time": "2025-09-18T19:05:45.108841",
     "status": "completed"
    },
    "tags": []
   },
   "outputs": [
    {
     "name": "stdout",
     "output_type": "stream",
     "text": [
      "326.26428571450003\n",
      "657.5\n"
     ]
    }
   ],
   "source": [
    "print(q1)\n",
    "print(q3)"
   ]
  },
  {
   "cell_type": "code",
   "execution_count": 26,
   "id": "0f459080",
   "metadata": {
    "execution": {
     "iopub.execute_input": "2025-09-18T19:05:45.166228Z",
     "iopub.status.busy": "2025-09-18T19:05:45.165790Z",
     "iopub.status.idle": "2025-09-18T19:05:45.169849Z",
     "shell.execute_reply": "2025-09-18T19:05:45.169109Z"
    },
    "papermill": {
     "duration": 0.022906,
     "end_time": "2025-09-18T19:05:45.171443",
     "exception": false,
     "start_time": "2025-09-18T19:05:45.148537",
     "status": "completed"
    },
    "tags": []
   },
   "outputs": [],
   "source": [
    "iqr = q3 - q1"
   ]
  },
  {
   "cell_type": "code",
   "execution_count": 27,
   "id": "ffa333c0",
   "metadata": {
    "execution": {
     "iopub.execute_input": "2025-09-18T19:05:45.205513Z",
     "iopub.status.busy": "2025-09-18T19:05:45.205213Z",
     "iopub.status.idle": "2025-09-18T19:05:45.210749Z",
     "shell.execute_reply": "2025-09-18T19:05:45.209981Z"
    },
    "papermill": {
     "duration": 0.024023,
     "end_time": "2025-09-18T19:05:45.212086",
     "exception": false,
     "start_time": "2025-09-18T19:05:45.188063",
     "status": "completed"
    },
    "tags": []
   },
   "outputs": [
    {
     "data": {
      "text/plain": [
       "656.5"
      ]
     },
     "execution_count": 27,
     "metadata": {},
     "output_type": "execute_result"
    }
   ],
   "source": [
    "lower = q3 - 1\n",
    "lower"
   ]
  },
  {
   "cell_type": "code",
   "execution_count": 28,
   "id": "6996c6e4",
   "metadata": {
    "execution": {
     "iopub.execute_input": "2025-09-18T19:05:45.245371Z",
     "iopub.status.busy": "2025-09-18T19:05:45.245056Z",
     "iopub.status.idle": "2025-09-18T19:05:45.250634Z",
     "shell.execute_reply": "2025-09-18T19:05:45.249763Z"
    },
    "papermill": {
     "duration": 0.023724,
     "end_time": "2025-09-18T19:05:45.251993",
     "exception": false,
     "start_time": "2025-09-18T19:05:45.228269",
     "status": "completed"
    },
    "tags": []
   },
   "outputs": [
    {
     "data": {
      "text/plain": [
       "1154.35357142825"
      ]
     },
     "execution_count": 28,
     "metadata": {},
     "output_type": "execute_result"
    }
   ],
   "source": [
    "upper = q3 + 1.5 * iqr\n",
    "upper"
   ]
  },
  {
   "cell_type": "code",
   "execution_count": 29,
   "id": "54545c16",
   "metadata": {
    "execution": {
     "iopub.execute_input": "2025-09-18T19:05:45.286697Z",
     "iopub.status.busy": "2025-09-18T19:05:45.286416Z",
     "iopub.status.idle": "2025-09-18T19:05:45.292923Z",
     "shell.execute_reply": "2025-09-18T19:05:45.292163Z"
    },
    "papermill": {
     "duration": 0.025569,
     "end_time": "2025-09-18T19:05:45.294556",
     "exception": false,
     "start_time": "2025-09-18T19:05:45.268987",
     "status": "completed"
    },
    "tags": []
   },
   "outputs": [],
   "source": [
    "df_new = df_encoded[(df_encoded['Price (Thousands)']>lower) & (df_encoded['Price (Thousands)']<upper)]"
   ]
  },
  {
   "cell_type": "code",
   "execution_count": 30,
   "id": "b3663bd1",
   "metadata": {
    "execution": {
     "iopub.execute_input": "2025-09-18T19:05:45.328864Z",
     "iopub.status.busy": "2025-09-18T19:05:45.327891Z",
     "iopub.status.idle": "2025-09-18T19:05:45.333342Z",
     "shell.execute_reply": "2025-09-18T19:05:45.332639Z"
    },
    "papermill": {
     "duration": 0.023749,
     "end_time": "2025-09-18T19:05:45.334605",
     "exception": false,
     "start_time": "2025-09-18T19:05:45.310856",
     "status": "completed"
    },
    "tags": []
   },
   "outputs": [
    {
     "data": {
      "text/plain": [
       "(903, 63)"
      ]
     },
     "execution_count": 30,
     "metadata": {},
     "output_type": "execute_result"
    }
   ],
   "source": [
    "df_new.shape"
   ]
  },
  {
   "cell_type": "code",
   "execution_count": 31,
   "id": "96a2d6e3",
   "metadata": {
    "execution": {
     "iopub.execute_input": "2025-09-18T19:05:45.368885Z",
     "iopub.status.busy": "2025-09-18T19:05:45.367976Z",
     "iopub.status.idle": "2025-09-18T19:05:45.533388Z",
     "shell.execute_reply": "2025-09-18T19:05:45.532474Z"
    },
    "papermill": {
     "duration": 0.183957,
     "end_time": "2025-09-18T19:05:45.534824",
     "exception": false,
     "start_time": "2025-09-18T19:05:45.350867",
     "status": "completed"
    },
    "tags": []
   },
   "outputs": [
    {
     "data": {
      "text/plain": [
       "(array([195., 167., 127., 112.,  86.,  63.,  53.,  43.,  29.,  28.]),\n",
       " array([ 657. ,  706.3,  755.6,  804.9,  854.2,  903.5,  952.8, 1002.1,\n",
       "        1051.4, 1100.7, 1150. ]),\n",
       " <BarContainer object of 10 artists>)"
      ]
     },
     "execution_count": 31,
     "metadata": {},
     "output_type": "execute_result"
    },
    {
     "data": {
      "image/png": "[encoded data removed]",
      "text/plain": [
       "<Figure size 640x480 with 1 Axes>"
      ]
     },
     "metadata": {},
     "output_type": "display_data"
    }
   ],
   "source": [
    "plt.hist(df_new['Price (Thousands)'], bins=10)"
   ]
  },
  {
   "cell_type": "code",
   "execution_count": 32,
   "id": "0d57746d",
   "metadata": {
    "execution": {
     "iopub.execute_input": "2025-09-18T19:05:45.569894Z",
     "iopub.status.busy": "2025-09-18T19:05:45.569055Z",
     "iopub.status.idle": "2025-09-18T19:05:45.582698Z",
     "shell.execute_reply": "2025-09-18T19:05:45.581593Z"
    },
    "papermill": {
     "duration": 0.032602,
     "end_time": "2025-09-18T19:05:45.584195",
     "exception": false,
     "start_time": "2025-09-18T19:05:45.551593",
     "status": "completed"
    },
    "tags": []
   },
   "outputs": [
    {
     "name": "stdout",
     "output_type": "stream",
     "text": [
      "<class 'pandas.core.frame.DataFrame'>\n",
      "Index: 903 entries, 20 to 4578\n",
      "Data columns (total 63 columns):\n",
      " #   Column                    Non-Null Count  Dtype  \n",
      "---  ------                    --------------  -----  \n",
      " 0   date                      903 non-null    object \n",
      " 1   price                     903 non-null    float64\n",
      " 2   bedrooms                  903 non-null    float64\n",
      " 3   bathrooms                 903 non-null    float64\n",
      " 4   sqft_living               903 non-null    int64  \n",
      " 5   sqft_lot                  903 non-null    int64  \n",
      " 6   floors                    903 non-null    int64  \n",
      " 7   waterfront                903 non-null    int64  \n",
      " 8   view                      903 non-null    int64  \n",
      " 9   condition                 903 non-null    int64  \n",
      " 10  sqft_above                903 non-null    int64  \n",
      " 11  sqft_basement             903 non-null    int64  \n",
      " 12  yr_built                  903 non-null    int64  \n",
      " 13  yr_renovated              903 non-null    int64  \n",
      " 14  street                    903 non-null    object \n",
      " 15  statezip                  903 non-null    object \n",
      " 16  country                   903 non-null    object \n",
      " 17  renovation                903 non-null    int64  \n",
      " 18  city_Auburn               903 non-null    bool   \n",
      " 19  city_Beaux Arts Village   903 non-null    bool   \n",
      " 20  city_Bellevue             903 non-null    bool   \n",
      " 21  city_Black Diamond        903 non-null    bool   \n",
      " 22  city_Bothell              903 non-null    bool   \n",
      " 23  city_Burien               903 non-null    bool   \n",
      " 24  city_Carnation            903 non-null    bool   \n",
      " 25  city_Clyde Hill           903 non-null    bool   \n",
      " 26  city_Covington            903 non-null    bool   \n",
      " 27  city_Des Moines           903 non-null    bool   \n",
      " 28  city_Duvall               903 non-null    bool   \n",
      " 29  city_Enumclaw             903 non-null    bool   \n",
      " 30  city_Fall City            903 non-null    bool   \n",
      " 31  city_Federal Way          903 non-null    bool   \n",
      " 32  city_Inglewood-Finn Hill  903 non-null    bool   \n",
      " 33  city_Issaquah             903 non-null    bool   \n",
      " 34  city_Kenmore              903 non-null    bool   \n",
      " 35  city_Kent                 903 non-null    bool   \n",
      " 36  city_Kirkland             903 non-null    bool   \n",
      " 37  city_Lake Forest Park     903 non-null    bool   \n",
      " 38  city_Maple Valley         903 non-null    bool   \n",
      " 39  city_Medina               903 non-null    bool   \n",
      " 40  city_Mercer Island        903 non-null    bool   \n",
      " 41  city_Milton               903 non-null    bool   \n",
      " 42  city_Newcastle            903 non-null    bool   \n",
      " 43  city_Normandy Park        903 non-null    bool   \n",
      " 44  city_North Bend           903 non-null    bool   \n",
      " 45  city_Pacific              903 non-null    bool   \n",
      " 46  city_Preston              903 non-null    bool   \n",
      " 47  city_Ravensdale           903 non-null    bool   \n",
      " 48  city_Redmond              903 non-null    bool   \n",
      " 49  city_Renton               903 non-null    bool   \n",
      " 50  city_Sammamish            903 non-null    bool   \n",
      " 51  city_SeaTac               903 non-null    bool   \n",
      " 52  city_Seattle              903 non-null    bool   \n",
      " 53  city_Shoreline            903 non-null    bool   \n",
      " 54  city_Skykomish            903 non-null    bool   \n",
      " 55  city_Snoqualmie           903 non-null    bool   \n",
      " 56  city_Snoqualmie Pass      903 non-null    bool   \n",
      " 57  city_Tukwila              903 non-null    bool   \n",
      " 58  city_Vashon               903 non-null    bool   \n",
      " 59  city_Woodinville          903 non-null    bool   \n",
      " 60  city_Yarrow Point         903 non-null    bool   \n",
      " 61  house_age                 903 non-null    int64  \n",
      " 62  Price (Thousands)         903 non-null    float64\n",
      "dtypes: bool(43), float64(4), int64(12), object(4)\n",
      "memory usage: 186.1+ KB\n"
     ]
    }
   ],
   "source": [
    "df_new.info()"
   ]
  },
  {
   "cell_type": "code",
   "execution_count": 33,
   "id": "5fca54a4",
   "metadata": {
    "execution": {
     "iopub.execute_input": "2025-09-18T19:05:45.619877Z",
     "iopub.status.busy": "2025-09-18T19:05:45.618981Z",
     "iopub.status.idle": "2025-09-18T19:05:45.625883Z",
     "shell.execute_reply": "2025-09-18T19:05:45.625227Z"
    },
    "papermill": {
     "duration": 0.026064,
     "end_time": "2025-09-18T19:05:45.627160",
     "exception": false,
     "start_time": "2025-09-18T19:05:45.601096",
     "status": "completed"
    },
    "tags": []
   },
   "outputs": [],
   "source": [
    "x = df_new.drop(['date','price','yr_built','yr_renovated','street','statezip','country','Price (Thousands)'],axis=1)\n",
    "y = df_new['Price (Thousands)']"
   ]
  },
  {
   "cell_type": "code",
   "execution_count": 34,
   "id": "03215271",
   "metadata": {
    "execution": {
     "iopub.execute_input": "2025-09-18T19:05:45.661799Z",
     "iopub.status.busy": "2025-09-18T19:05:45.661485Z",
     "iopub.status.idle": "2025-09-18T19:05:45.678888Z",
     "shell.execute_reply": "2025-09-18T19:05:45.677986Z"
    },
    "papermill": {
     "duration": 0.036489,
     "end_time": "2025-09-18T19:05:45.680306",
     "exception": false,
     "start_time": "2025-09-18T19:05:45.643817",
     "status": "completed"
    },
    "tags": []
   },
   "outputs": [
    {
     "data": {
      "text/html": [
       "<div>\n",
       "<style scoped>\n",
       "    .dataframe tbody tr th:only-of-type {\n",
       "        vertical-align: middle;\n",
       "    }\n",
       "\n",
       "    .dataframe tbody tr th {\n",
       "        vertical-align: top;\n",
       "    }\n",
       "\n",
       "    .dataframe thead th {\n",
       "        text-align: right;\n",
       "    }\n",
       "</style>\n",
       "<table border=\"1\" class=\"dataframe\">\n",
       "  <thead>\n",
       "    <tr style=\"text-align: right;\">\n",
       "      <th></th>\n",
       "      <th>bedrooms</th>\n",
       "      <th>bathrooms</th>\n",
       "      <th>sqft_living</th>\n",
       "      <th>sqft_lot</th>\n",
       "      <th>floors</th>\n",
       "      <th>waterfront</th>\n",
       "      <th>view</th>\n",
       "      <th>condition</th>\n",
       "      <th>sqft_above</th>\n",
       "      <th>sqft_basement</th>\n",
       "      <th>...</th>\n",
       "      <th>city_Seattle</th>\n",
       "      <th>city_Shoreline</th>\n",
       "      <th>city_Skykomish</th>\n",
       "      <th>city_Snoqualmie</th>\n",
       "      <th>city_Snoqualmie Pass</th>\n",
       "      <th>city_Tukwila</th>\n",
       "      <th>city_Vashon</th>\n",
       "      <th>city_Woodinville</th>\n",
       "      <th>city_Yarrow Point</th>\n",
       "      <th>house_age</th>\n",
       "    </tr>\n",
       "  </thead>\n",
       "  <tbody>\n",
       "    <tr>\n",
       "      <th>20</th>\n",
       "      <td>3.0</td>\n",
       "      <td>1.75</td>\n",
       "      <td>2240</td>\n",
       "      <td>10578</td>\n",
       "      <td>2</td>\n",
       "      <td>0</td>\n",
       "      <td>0</td>\n",
       "      <td>5</td>\n",
       "      <td>1550</td>\n",
       "      <td>690</td>\n",
       "      <td>...</td>\n",
       "      <td>True</td>\n",
       "      <td>False</td>\n",
       "      <td>False</td>\n",
       "      <td>False</td>\n",
       "      <td>False</td>\n",
       "      <td>False</td>\n",
       "      <td>False</td>\n",
       "      <td>False</td>\n",
       "      <td>False</td>\n",
       "      <td>102</td>\n",
       "    </tr>\n",
       "    <tr>\n",
       "      <th>27</th>\n",
       "      <td>4.0</td>\n",
       "      <td>2.25</td>\n",
       "      <td>2200</td>\n",
       "      <td>11250</td>\n",
       "      <td>2</td>\n",
       "      <td>0</td>\n",
       "      <td>0</td>\n",
       "      <td>5</td>\n",
       "      <td>1300</td>\n",
       "      <td>900</td>\n",
       "      <td>...</td>\n",
       "      <td>False</td>\n",
       "      <td>False</td>\n",
       "      <td>False</td>\n",
       "      <td>False</td>\n",
       "      <td>False</td>\n",
       "      <td>False</td>\n",
       "      <td>False</td>\n",
       "      <td>False</td>\n",
       "      <td>False</td>\n",
       "      <td>105</td>\n",
       "    </tr>\n",
       "    <tr>\n",
       "      <th>28</th>\n",
       "      <td>5.0</td>\n",
       "      <td>2.50</td>\n",
       "      <td>2820</td>\n",
       "      <td>67518</td>\n",
       "      <td>2</td>\n",
       "      <td>0</td>\n",
       "      <td>0</td>\n",
       "      <td>3</td>\n",
       "      <td>2820</td>\n",
       "      <td>0</td>\n",
       "      <td>...</td>\n",
       "      <td>False</td>\n",
       "      <td>False</td>\n",
       "      <td>False</td>\n",
       "      <td>False</td>\n",
       "      <td>False</td>\n",
       "      <td>False</td>\n",
       "      <td>False</td>\n",
       "      <td>False</td>\n",
       "      <td>False</td>\n",
       "      <td>46</td>\n",
       "    </tr>\n",
       "    <tr>\n",
       "      <th>29</th>\n",
       "      <td>3.0</td>\n",
       "      <td>2.50</td>\n",
       "      <td>2600</td>\n",
       "      <td>4750</td>\n",
       "      <td>1</td>\n",
       "      <td>0</td>\n",
       "      <td>0</td>\n",
       "      <td>4</td>\n",
       "      <td>1700</td>\n",
       "      <td>900</td>\n",
       "      <td>...</td>\n",
       "      <td>True</td>\n",
       "      <td>False</td>\n",
       "      <td>False</td>\n",
       "      <td>False</td>\n",
       "      <td>False</td>\n",
       "      <td>False</td>\n",
       "      <td>False</td>\n",
       "      <td>False</td>\n",
       "      <td>False</td>\n",
       "      <td>74</td>\n",
       "    </tr>\n",
       "    <tr>\n",
       "      <th>39</th>\n",
       "      <td>3.0</td>\n",
       "      <td>2.50</td>\n",
       "      <td>2390</td>\n",
       "      <td>6550</td>\n",
       "      <td>1</td>\n",
       "      <td>0</td>\n",
       "      <td>2</td>\n",
       "      <td>4</td>\n",
       "      <td>1440</td>\n",
       "      <td>950</td>\n",
       "      <td>...</td>\n",
       "      <td>True</td>\n",
       "      <td>False</td>\n",
       "      <td>False</td>\n",
       "      <td>False</td>\n",
       "      <td>False</td>\n",
       "      <td>False</td>\n",
       "      <td>False</td>\n",
       "      <td>False</td>\n",
       "      <td>False</td>\n",
       "      <td>70</td>\n",
       "    </tr>\n",
       "  </tbody>\n",
       "</table>\n",
       "<p>5 rows × 55 columns</p>\n",
       "</div>"
      ],
      "text/plain": [
       "    bedrooms  bathrooms  sqft_living  sqft_lot  floors  waterfront  view  \\\n",
       "20       3.0       1.75         2240     10578       2           0     0   \n",
       "27       4.0       2.25         2200     11250       2           0     0   \n",
       "28       5.0       2.50         2820     67518       2           0     0   \n",
       "29       3.0       2.50         2600      4750       1           0     0   \n",
       "39       3.0       2.50         2390      6550       1           0     2   \n",
       "\n",
       "    condition  sqft_above  sqft_basement  ...  city_Seattle  city_Shoreline  \\\n",
       "20          5        1550            690  ...          True           False   \n",
       "27          5        1300            900  ...         False           False   \n",
       "28          3        2820              0  ...         False           False   \n",
       "29          4        1700            900  ...          True           False   \n",
       "39          4        1440            950  ...          True           False   \n",
       "\n",
       "    city_Skykomish  city_Snoqualmie  city_Snoqualmie Pass  city_Tukwila  \\\n",
       "20           False            False                 False         False   \n",
       "27           False            False                 False         False   \n",
       "28           False            False                 False         False   \n",
       "29           False            False                 False         False   \n",
       "39           False            False                 False         False   \n",
       "\n",
       "    city_Vashon  city_Woodinville  city_Yarrow Point  house_age  \n",
       "20        False             False              False        102  \n",
       "27        False             False              False        105  \n",
       "28        False             False              False         46  \n",
       "29        False             False              False         74  \n",
       "39        False             False              False         70  \n",
       "\n",
       "[5 rows x 55 columns]"
      ]
     },
     "execution_count": 34,
     "metadata": {},
     "output_type": "execute_result"
    }
   ],
   "source": [
    "x.head()"
   ]
  },
  {
   "cell_type": "markdown",
   "id": "01aeb91d",
   "metadata": {
    "papermill": {
     "duration": 0.016942,
     "end_time": "2025-09-18T19:05:45.714986",
     "exception": false,
     "start_time": "2025-09-18T19:05:45.698044",
     "status": "completed"
    },
    "tags": []
   },
   "source": [
    "<center>\n",
    "  <h3>🧩 Train-Test Split</h3>\n",
    "</center>\n",
    "\n",
    "<p>\n",
    "We split the dataset into training and testing sets using <code>train_test_split</code> from <code>sklearn.model_selection</code>:  \n",
    "<pre style=\"background:#282c34; color:#f8f8f2; padding:10px; border-radius:6px; text-align:left;\">\n"
   ]
  },
  {
   "cell_type": "code",
   "execution_count": 35,
   "id": "0a430c07",
   "metadata": {
    "execution": {
     "iopub.execute_input": "2025-09-18T19:05:45.751149Z",
     "iopub.status.busy": "2025-09-18T19:05:45.750793Z",
     "iopub.status.idle": "2025-09-18T19:05:46.034756Z",
     "shell.execute_reply": "2025-09-18T19:05:46.034076Z"
    },
    "papermill": {
     "duration": 0.30383,
     "end_time": "2025-09-18T19:05:46.036247",
     "exception": false,
     "start_time": "2025-09-18T19:05:45.732417",
     "status": "completed"
    },
    "tags": []
   },
   "outputs": [],
   "source": [
    "from sklearn.model_selection import train_test_split\n",
    "\n",
    "x_train , x_test, y_train, y_test = train_test_split(x, y, test_size=0.25,random_state = 42)"
   ]
  },
  {
   "cell_type": "markdown",
   "id": "7ec18207",
   "metadata": {
    "papermill": {
     "duration": 0.017878,
     "end_time": "2025-09-18T19:05:46.072554",
     "exception": false,
     "start_time": "2025-09-18T19:05:46.054676",
     "status": "completed"
    },
    "tags": []
   },
   "source": [
    "<center>\n",
    "  <h3>🏗️ Building the Model</h3>\n",
    "</center>\n",
    "\n",
    "<p>\n",
    "We build a machine learning model using <code>LinearRegression</code> from <code>sklearn.linear_model</code>:  \n",
    "<pre style=\"background:#282c34; color:#f8f8f2; padding:10px; border-radius:6px; text-align:left;\">\n",
    "from sklearn.linear_model import LinearRegression\n",
    "</pre>\n",
    "<ul>\n",
    "  <li><code>LinearRegression()</code> fits a linear model to predict the target variable</li>\n",
    "  <li><code>model.fit(x_train, y_train)</code> trains the model using the training data</li>\n",
    "  <li>Once trained, the model can predict house prices on <code>x_test</code></li>\n",
    "</ul>\n",
    "</p>\n"
   ]
  },
  {
   "cell_type": "code",
   "execution_count": 36,
   "id": "53c802f7",
   "metadata": {
    "execution": {
     "iopub.execute_input": "2025-09-18T19:05:46.108587Z",
     "iopub.status.busy": "2025-09-18T19:05:46.108229Z",
     "iopub.status.idle": "2025-09-18T19:05:46.211007Z",
     "shell.execute_reply": "2025-09-18T19:05:46.210011Z"
    },
    "papermill": {
     "duration": 0.122972,
     "end_time": "2025-09-18T19:05:46.212831",
     "exception": false,
     "start_time": "2025-09-18T19:05:46.089859",
     "status": "completed"
    },
    "tags": []
   },
   "outputs": [],
   "source": [
    "# Building the model\n",
    "from sklearn.linear_model import LinearRegression"
   ]
  },
  {
   "cell_type": "code",
   "execution_count": 37,
   "id": "c5ca83b7",
   "metadata": {
    "execution": {
     "iopub.execute_input": "2025-09-18T19:05:46.250123Z",
     "iopub.status.busy": "2025-09-18T19:05:46.249365Z",
     "iopub.status.idle": "2025-09-18T19:05:46.253677Z",
     "shell.execute_reply": "2025-09-18T19:05:46.252908Z"
    },
    "papermill": {
     "duration": 0.024714,
     "end_time": "2025-09-18T19:05:46.255227",
     "exception": false,
     "start_time": "2025-09-18T19:05:46.230513",
     "status": "completed"
    },
    "tags": []
   },
   "outputs": [],
   "source": [
    "model = LinearRegression() # creation a linear regression"
   ]
  },
  {
   "cell_type": "code",
   "execution_count": 38,
   "id": "e1fb41da",
   "metadata": {
    "execution": {
     "iopub.execute_input": "2025-09-18T19:05:46.291878Z",
     "iopub.status.busy": "2025-09-18T19:05:46.291575Z",
     "iopub.status.idle": "2025-09-18T19:05:46.334661Z",
     "shell.execute_reply": "2025-09-18T19:05:46.333902Z"
    },
    "papermill": {
     "duration": 0.063566,
     "end_time": "2025-09-18T19:05:46.336466",
     "exception": false,
     "start_time": "2025-09-18T19:05:46.272900",
     "status": "completed"
    },
    "tags": []
   },
   "outputs": [
    {
     "data": {
      "text/html": [
       "<style>#sk-container-id-1 {color: black;background-color: white;}#sk-container-id-1 pre{padding: 0;}#sk-container-id-1 div.sk-toggleable {background-color: white;}#sk-container-id-1 label.sk-toggleable__label {cursor: pointer;display: block;width: 100%;margin-bottom: 0;padding: 0.3em;box-sizing: border-box;text-align: center;}#sk-container-id-1 label.sk-toggleable__label-arrow:before {content: \"▸\";float: left;margin-right: 0.25em;color: #696969;}#sk-container-id-1 label.sk-toggleable__label-arrow:hover:before {color: black;}#sk-container-id-1 div.sk-estimator:hover label.sk-toggleable__label-arrow:before {color: black;}#sk-container-id-1 div.sk-toggleable__content {max-height: 0;max-width: 0;overflow: hidden;text-align: left;background-color: #f0f8ff;}#sk-container-id-1 div.sk-toggleable__content pre {margin: 0.2em;color: black;border-radius: 0.25em;background-color: #f0f8ff;}#sk-container-id-1 input.sk-toggleable__control:checked~div.sk-toggleable__content {max-height: 200px;max-width: 100%;overflow: auto;}#sk-container-id-1 input.sk-toggleable__control:checked~label.sk-toggleable__label-arrow:before {content: \"▾\";}#sk-container-id-1 div.sk-estimator input.sk-toggleable__control:checked~label.sk-toggleable__label {background-color: #d4ebff;}#sk-container-id-1 div.sk-label input.sk-toggleable__control:checked~label.sk-toggleable__label {background-color: #d4ebff;}#sk-container-id-1 input.sk-hidden--visually {border: 0;clip: rect(1px 1px 1px 1px);clip: rect(1px, 1px, 1px, 1px);height: 1px;margin: -1px;overflow: hidden;padding: 0;position: absolute;width: 1px;}#sk-container-id-1 div.sk-estimator {font-family: monospace;background-color: #f0f8ff;border: 1px dotted black;border-radius: 0.25em;box-sizing: border-box;margin-bottom: 0.5em;}#sk-container-id-1 div.sk-estimator:hover {background-color: #d4ebff;}#sk-container-id-1 div.sk-parallel-item::after {content: \"\";width: 100%;border-bottom: 1px solid gray;flex-grow: 1;}#sk-container-id-1 div.sk-label:hover label.sk-toggleable__label {background-color: #d4ebff;}#sk-container-id-1 div.sk-serial::before {content: \"\";position: absolute;border-left: 1px solid gray;box-sizing: border-box;top: 0;bottom: 0;left: 50%;z-index: 0;}#sk-container-id-1 div.sk-serial {display: flex;flex-direction: column;align-items: center;background-color: white;padding-right: 0.2em;padding-left: 0.2em;position: relative;}#sk-container-id-1 div.sk-item {position: relative;z-index: 1;}#sk-container-id-1 div.sk-parallel {display: flex;align-items: stretch;justify-content: center;background-color: white;position: relative;}#sk-container-id-1 div.sk-item::before, #sk-container-id-1 div.sk-parallel-item::before {content: \"\";position: absolute;border-left: 1px solid gray;box-sizing: border-box;top: 0;bottom: 0;left: 50%;z-index: -1;}#sk-container-id-1 div.sk-parallel-item {display: flex;flex-direction: column;z-index: 1;position: relative;background-color: white;}#sk-container-id-1 div.sk-parallel-item:first-child::after {align-self: flex-end;width: 50%;}#sk-container-id-1 div.sk-parallel-item:last-child::after {align-self: flex-start;width: 50%;}#sk-container-id-1 div.sk-parallel-item:only-child::after {width: 0;}#sk-container-id-1 div.sk-dashed-wrapped {border: 1px dashed gray;margin: 0 0.4em 0.5em 0.4em;box-sizing: border-box;padding-bottom: 0.4em;background-color: white;}#sk-container-id-1 div.sk-label label {font-family: monospace;font-weight: bold;display: inline-block;line-height: 1.2em;}#sk-container-id-1 div.sk-label-container {text-align: center;}#sk-container-id-1 div.sk-container {/* jupyter's `normalize.less` sets `[hidden] { display: none; }` but bootstrap.min.css set `[hidden] { display: none !important; }` so we also need the `!important` here to be able to override the default hidden behavior on the sphinx rendered scikit-learn.org. See: https://github.com/scikit-learn/scikit-learn/issues/21755 */display: inline-block !important;position: relative;}#sk-container-id-1 div.sk-text-repr-fallback {display: none;}</style><div id=\"sk-container-id-1\" class=\"sk-top-container\"><div class=\"sk-text-repr-fallback\"><pre>LinearRegression()</pre><b>In a Jupyter environment, please rerun this cell to show the HTML representation or trust the notebook. <br />On GitHub, the HTML representation is unable to render, please try loading this page with nbviewer.org.</b></div><div class=\"sk-container\" hidden><div class=\"sk-item\"><div class=\"sk-estimator sk-toggleable\"><input class=\"sk-toggleable__control sk-hidden--visually\" id=\"sk-estimator-id-1\" type=\"checkbox\" checked><label for=\"sk-estimator-id-1\" class=\"sk-toggleable__label sk-toggleable__label-arrow\">LinearRegression</label><div class=\"sk-toggleable__content\"><pre>LinearRegression()</pre></div></div></div></div></div>"
      ],
      "text/plain": [
       "LinearRegression()"
      ]
     },
     "execution_count": 38,
     "metadata": {},
     "output_type": "execute_result"
    }
   ],
   "source": [
    "model.fit(x_train, y_train)"
   ]
  },
  {
   "cell_type": "code",
   "execution_count": 39,
   "id": "d229b53f",
   "metadata": {
    "execution": {
     "iopub.execute_input": "2025-09-18T19:05:46.396129Z",
     "iopub.status.busy": "2025-09-18T19:05:46.395759Z",
     "iopub.status.idle": "2025-09-18T19:05:46.404566Z",
     "shell.execute_reply": "2025-09-18T19:05:46.403669Z"
    },
    "papermill": {
     "duration": 0.041283,
     "end_time": "2025-09-18T19:05:46.406198",
     "exception": false,
     "start_time": "2025-09-18T19:05:46.364915",
     "status": "completed"
    },
    "tags": []
   },
   "outputs": [],
   "source": [
    "pred = model.predict(x_test)"
   ]
  },
  {
   "cell_type": "markdown",
   "id": "86d92990",
   "metadata": {
    "papermill": {
     "duration": 0.018471,
     "end_time": "2025-09-18T19:05:46.454116",
     "exception": false,
     "start_time": "2025-09-18T19:05:46.435645",
     "status": "completed"
    },
    "tags": []
   },
   "source": [
    "<center>\n",
    "  <h3>📏 Model Evaluation: MAE & MAPE</h3>\n",
    "</center>\n",
    "\n",
    "<p>\n",
    "We evaluate the model's performance using <code>mean_absolute_error</code> (MAE) and <code>mean_absolute_percentage_error</code> (MAPE) from <code>sklearn.metrics</code>:  \n",
    "<pre style=\"background:#282c34; color:#f8f8f2; padding:10px; border-radius:6px; text-align:left;\">\n",
    "from sklearn.metrics import mean_absolute_error, mean_absolute_percentage_error\n",
    "</pre>\n",
    "<ul>\n",
    "  <li><code>MAE</code> measures the average absolute difference between actual and predicted values</li>\n",
    "  <li><code>MAPE</code> expresses the average absolute error as a percentage of the actual values</li>\n",
    "  <li>Lower values indicate better predictive performance</li>\n",
    "</ul>\n",
    "</p>\n"
   ]
  },
  {
   "cell_type": "code",
   "execution_count": 40,
   "id": "46e18ed6",
   "metadata": {
    "execution": {
     "iopub.execute_input": "2025-09-18T19:05:46.490586Z",
     "iopub.status.busy": "2025-09-18T19:05:46.490265Z",
     "iopub.status.idle": "2025-09-18T19:05:46.498596Z",
     "shell.execute_reply": "2025-09-18T19:05:46.497839Z"
    },
    "papermill": {
     "duration": 0.028025,
     "end_time": "2025-09-18T19:05:46.499949",
     "exception": false,
     "start_time": "2025-09-18T19:05:46.471924",
     "status": "completed"
    },
    "tags": []
   },
   "outputs": [
    {
     "name": "stdout",
     "output_type": "stream",
     "text": [
      "89.70927001740723\n"
     ]
    },
    {
     "data": {
      "text/plain": [
       "0.11017051180265729"
      ]
     },
     "execution_count": 40,
     "metadata": {},
     "output_type": "execute_result"
    }
   ],
   "source": [
    "from sklearn.metrics import mean_absolute_error, mean_absolute_percentage_error\n",
    "\n",
    "print(mean_absolute_error(y_test, pred))\n",
    "mean_absolute_percentage_error(y_test, pred)"
   ]
  }
 ],
 "metadata": {
  "kaggle": {
   "accelerator": "none",
   "dataSources": [
    {
     "datasetId": 46927,
     "sourceId": 85203,
     "sourceType": "datasetVersion"
    }
   ],
   "dockerImageVersionId": 31012,
   "isGpuEnabled": false,
   "isInternetEnabled": false,
   "language": "python",
   "sourceType": "notebook"
  },
  "kernelspec": {
   "display_name": "Python 3",
   "language": "python",
   "name": "python3"
  },
  "language_info": {
   "codemirror_mode": {
    "name": "ipython",
    "version": 3
   },
   "file_extension": ".py",
   "mimetype": "text/x-python",
   "name": "python",
   "nbconvert_exporter": "python",
   "pygments_lexer": "ipython3",
   "version": "3.11.11"
  },
  "papermill": {
   "default_parameters": {},
   "duration": 14.922815,
   "end_time": "2025-09-18T19:05:47.273097",
   "environment_variables": {},
   "exception": null,
   "input_path": "__notebook__.ipynb",
   "output_path": "__notebook__.ipynb",
   "parameters": {},
   "start_time": "2025-09-18T19:05:32.350282",
   "version": "2.6.0"
  }
 },
 "nbformat": 4,
 "nbformat_minor": 5
}
